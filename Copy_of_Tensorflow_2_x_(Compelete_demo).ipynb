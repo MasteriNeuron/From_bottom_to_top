{
  "nbformat": 4,
  "nbformat_minor": 0,
  "metadata": {
    "kernelspec": {
      "display_name": "Python 3",
      "language": "python",
      "name": "python3"
    },
    "language_info": {
      "codemirror_mode": {
        "name": "ipython",
        "version": 3
      },
      "file_extension": ".py",
      "mimetype": "text/x-python",
      "name": "python",
      "nbconvert_exporter": "python",
      "pygments_lexer": "ipython3",
      "version": "3.7.6"
    },
    "colab": {
      "provenance": [],
      "gpuType": "T4"
    },
    "accelerator": "GPU",
    "gpuClass": "standard"
  },
  "cells": [
    {
      "cell_type": "markdown",
      "metadata": {
        "id": "wj5NcfYio6jx"
      },
      "source": [
        "# Tensorflow-2.x\n",
        "\n",
        "<img src=\"https://i.ytimg.com/vi/yjprpOoH5c8/maxresdefault.jpg\" width=\"600\"\n",
        "     height=\"300\">"
      ]
    },
    {
      "cell_type": "markdown",
      "metadata": {
        "id": "zBkUHbMXo6jz"
      },
      "source": [
        "> TensorFlow is an open source software library for high performance numerical computation. Its flexible architecture allows easy deployment of computation across a variety of platforms (CPUs, GPUs, TPUs), and from desktops to clusters of servers to mobile and edge devices.\n",
        "> Originally developed by researchers and engineers from the Google Brain team within Google’s AI organization, it comes with strong support for machine learning and deep learning and the flexible numerical computation core is used across many other scientific domains."
      ]
    },
    {
      "cell_type": "markdown",
      "metadata": {
        "id": "8YsfPPEKo6j0"
      },
      "source": [
        "## Why Tensorflow?"
      ]
    },
    {
      "cell_type": "markdown",
      "metadata": {
        "id": "A47Q3hr0o6j1"
      },
      "source": [
        "\n",
        "<img src=\"https://www.imaginarycloud.com/blog/content/images/2021/04/pytorchvs_cover.png\" width=\"600\"\n",
        "     height=\"300\">\n",
        "\n",
        "\n",
        "\n",
        "TensorFlow is a popular and widely used open-source machine learning framework developed by Google. It offers a range of features and benefits that make it a powerful tool for building and deploying machine learning models. Here are some reasons why TensorFlow is commonly used:\n",
        "\n",
        "- Flexibility: TensorFlow provides a flexible and modular architecture that allows developers to build and customize machine learning models for a wide variety of tasks. It supports both high-level and low-level APIs, giving users the flexibility to work at different levels of abstraction.\n",
        "\n",
        "- Scalability: TensorFlow is designed to handle large-scale machine learning projects. It enables efficient distributed computing across multiple CPUs and GPUs, making it suitable for training models on large datasets.\n",
        "\n",
        "- Wide range of applications: TensorFlow can be used for a diverse range of machine learning tasks, including image and speech recognition, natural language processing, recommendation systems, and more. It supports various neural network architectures, such as convolutional neural networks (CNNs), recurrent neural networks (RNNs), and transformers.\n",
        "\n",
        "- Community and ecosystem: TensorFlow has a large and active community of developers, researchers, and enthusiasts. This community contributes to the development of the framework by sharing code, providing support, and creating libraries and tools that extend TensorFlow's functionality. This vibrant ecosystem makes it easier to find resources, tutorials, and pre-trained models.\n",
        "\n",
        "- Visualization and debugging: TensorFlow includes tools for visualizing and debugging models, which can aid in understanding the behavior of the model during training and inference. It provides built-in support for TensorBoard, a web-based tool for visualizing metrics, model graphs, and other aspects of the training process.\n",
        "\n",
        "- Deployment options: TensorFlow offers multiple deployment options, allowing models to be deployed in a variety of environments. It supports deployment on different platforms, including desktops, servers, mobile devices, and even specialized hardware such as Google's Tensor Processing Units (TPUs).\n",
        "\n",
        "- Integration with other libraries and frameworks: TensorFlow can be easily integrated with other popular libraries and frameworks in the Python ecosystem, such as NumPy, Pandas, and scikit-learn. This enables seamless data manipulation, preprocessing, and post-processing tasks in conjunction with TensorFlow's capabilities.\n",
        "\n",
        "- Continued development and support: TensorFlow is actively developed and maintained by Google and the TensorFlow community. Regular updates and improvements ensure that the framework stays up to date with the latest advancements in machine learning research and industry practices.\n",
        "\n",
        "These are just a few reasons why TensorFlow is a popular choice for machine learning tasks. However, it's worth noting that the choice of framework ultimately depends on the specific requirements and preferences of the user."
      ]
    },
    {
      "cell_type": "markdown",
      "metadata": {
        "id": "DhCzhdcBo6j2"
      },
      "source": [
        "## Installation of Tensorflow"
      ]
    },
    {
      "cell_type": "markdown",
      "metadata": {
        "id": "ZXHTVaH2o6j3"
      },
      "source": [
        ">TensorFlow is tested and supported on the following 64-bit systems:\n",
        "\n",
        ">1.Ubuntu 16.04 or later\n",
        "\n",
        ">2.Windows 7 or later\n",
        "\n",
        ">3.macOS 10.12.6 (Sierra) or later (no GPU support)\n",
        "\n",
        ">4.Raspbian 9.0 or later"
      ]
    },
    {
      "cell_type": "markdown",
      "metadata": {
        "id": "WTk-wTo-o6j4"
      },
      "source": [
        "### For installing latest version of Tensorflow\n",
        "\n",
        "> **pip install tensorflow**\n",
        "\n",
        "> To run from Anaconda Prompt\n",
        "\n",
        "> **!pip install tensorflow**\n",
        "\n",
        "> To run from Jupyter Notebook\n",
        "\n",
        "\n",
        "### For installing a specific version of Tensorflow\n",
        "\n",
        "\n",
        "> **pip install tensorflow==2.x**\n",
        "\n",
        "> To run from Anaconda Prompt\n",
        "\n",
        "> **!pip install tensorflow==2.x**\n",
        "\n",
        "> To run from Jupyter Notebook\n",
        "\n",
        "\n",
        "[Tensorflow Documentation](https://www.tensorflow.org/install)"
      ]
    },
    {
      "cell_type": "markdown",
      "metadata": {
        "id": "VHpEGI2No6j5"
      },
      "source": [
        "`Both Tensorflow 2.0 and Keras have been released for four years (Keras was released in March 2015, and Tensorflow was released in November of the same year). The rapid development of deep learning in the past days, we also know\n",
        "some problems of Tensorflow1.x and Keras:`\n",
        "\n",
        "* Using Tensorflow means programming static graphs, which is difficult and inconvenient for programs that are familiar with imperative programming\n",
        "* Tensorflow api is powerful and flexible, but it is more complex, confusing and difficult to use.\n",
        "* Keras api is productive and easy to use, but lacks flexibility for research\n"
      ]
    },
    {
      "cell_type": "markdown",
      "metadata": {
        "id": "I4AHzdyto6j6"
      },
      "source": [
        "#### Version Check"
      ]
    },
    {
      "cell_type": "code",
      "metadata": {
        "id": "7Ofswai0o6j7",
        "outputId": "eb672f2e-6f5e-4738-c5c4-87230675359f",
        "colab": {
          "base_uri": "https://localhost:8080/",
          "height": 366
        }
      },
      "source": [
        "import tensorflow as tf\n",
        "\n",
        "print(\"TensorFlow version: {}\".format(tf.__version__))\n",
        "print(\"Eager execution is: {}\".format(tf.executing_eagerly()))\n",
        "print(\"Keras version: {}\".format(tf.keras.__version__))"
      ],
      "execution_count": null,
      "outputs": [
        {
          "output_type": "stream",
          "name": "stdout",
          "text": [
            "TensorFlow version: 2.13.0\n",
            "Eager execution is: True\n"
          ]
        },
        {
          "output_type": "error",
          "ename": "AttributeError",
          "evalue": "ignored",
          "traceback": [
            "\u001b[0;31m---------------------------------------------------------------------------\u001b[0m",
            "\u001b[0;31mAttributeError\u001b[0m                            Traceback (most recent call last)",
            "\u001b[0;32m<ipython-input-1-180e23cfe573>\u001b[0m in \u001b[0;36m<cell line: 5>\u001b[0;34m()\u001b[0m\n\u001b[1;32m      3\u001b[0m \u001b[0mprint\u001b[0m\u001b[0;34m(\u001b[0m\u001b[0;34m\"TensorFlow version: {}\"\u001b[0m\u001b[0;34m.\u001b[0m\u001b[0mformat\u001b[0m\u001b[0;34m(\u001b[0m\u001b[0mtf\u001b[0m\u001b[0;34m.\u001b[0m\u001b[0m__version__\u001b[0m\u001b[0;34m)\u001b[0m\u001b[0;34m)\u001b[0m\u001b[0;34m\u001b[0m\u001b[0;34m\u001b[0m\u001b[0m\n\u001b[1;32m      4\u001b[0m \u001b[0mprint\u001b[0m\u001b[0;34m(\u001b[0m\u001b[0;34m\"Eager execution is: {}\"\u001b[0m\u001b[0;34m.\u001b[0m\u001b[0mformat\u001b[0m\u001b[0;34m(\u001b[0m\u001b[0mtf\u001b[0m\u001b[0;34m.\u001b[0m\u001b[0mexecuting_eagerly\u001b[0m\u001b[0;34m(\u001b[0m\u001b[0;34m)\u001b[0m\u001b[0;34m)\u001b[0m\u001b[0;34m)\u001b[0m\u001b[0;34m\u001b[0m\u001b[0;34m\u001b[0m\u001b[0m\n\u001b[0;32m----> 5\u001b[0;31m \u001b[0mprint\u001b[0m\u001b[0;34m(\u001b[0m\u001b[0;34m\"Keras version: {}\"\u001b[0m\u001b[0;34m.\u001b[0m\u001b[0mformat\u001b[0m\u001b[0;34m(\u001b[0m\u001b[0mtf\u001b[0m\u001b[0;34m.\u001b[0m\u001b[0mkeras\u001b[0m\u001b[0;34m.\u001b[0m\u001b[0m__version__\u001b[0m\u001b[0;34m)\u001b[0m\u001b[0;34m)\u001b[0m\u001b[0;34m\u001b[0m\u001b[0;34m\u001b[0m\u001b[0m\n\u001b[0m",
            "\u001b[0;32m/usr/local/lib/python3.10/dist-packages/tensorflow/python/util/lazy_loader.py\u001b[0m in \u001b[0;36m__getattr__\u001b[0;34m(self, item)\u001b[0m\n\u001b[1;32m     57\u001b[0m   \u001b[0;32mdef\u001b[0m \u001b[0m__getattr__\u001b[0m\u001b[0;34m(\u001b[0m\u001b[0mself\u001b[0m\u001b[0;34m,\u001b[0m \u001b[0mitem\u001b[0m\u001b[0;34m)\u001b[0m\u001b[0;34m:\u001b[0m\u001b[0;34m\u001b[0m\u001b[0;34m\u001b[0m\u001b[0m\n\u001b[1;32m     58\u001b[0m     \u001b[0mmodule\u001b[0m \u001b[0;34m=\u001b[0m \u001b[0mself\u001b[0m\u001b[0;34m.\u001b[0m\u001b[0m_load\u001b[0m\u001b[0;34m(\u001b[0m\u001b[0;34m)\u001b[0m\u001b[0;34m\u001b[0m\u001b[0;34m\u001b[0m\u001b[0m\n\u001b[0;32m---> 59\u001b[0;31m     \u001b[0;32mreturn\u001b[0m \u001b[0mgetattr\u001b[0m\u001b[0;34m(\u001b[0m\u001b[0mmodule\u001b[0m\u001b[0;34m,\u001b[0m \u001b[0mitem\u001b[0m\u001b[0;34m)\u001b[0m\u001b[0;34m\u001b[0m\u001b[0;34m\u001b[0m\u001b[0m\n\u001b[0m\u001b[1;32m     60\u001b[0m \u001b[0;34m\u001b[0m\u001b[0m\n\u001b[1;32m     61\u001b[0m   \u001b[0;32mdef\u001b[0m \u001b[0m__dir__\u001b[0m\u001b[0;34m(\u001b[0m\u001b[0mself\u001b[0m\u001b[0;34m)\u001b[0m\u001b[0;34m:\u001b[0m\u001b[0;34m\u001b[0m\u001b[0;34m\u001b[0m\u001b[0m\n",
            "\u001b[0;31mAttributeError\u001b[0m: module 'keras.api._v2.keras' has no attribute '__version__'"
          ]
        }
      ]
    },
    {
      "cell_type": "markdown",
      "metadata": {
        "id": "P2L-zduRo6kC"
      },
      "source": [
        "`Tensorflow2.0 is a combination design of Tensorflow1.x and Keras. Considering user feedback and framework development over the past four years, it largely solves the above problems and will become the future machine learning platform.`\n",
        "\n",
        "> Tensorflow 2.0 is built on the following core ideas:\n",
        "\n",
        "\n",
        "* The coding is more pythonic, so that users can get the results immediately like they are programming in numpy\n",
        "* Retaining the characteristics of static graphs (for performance, distributed, and production deployment), this makes TensorFlow fast, scalable, and ready for production.\n",
        "* Using Keras as a high-level API for deep learning, making Tensorflow easy to use and efficient\n",
        "* Make the entire framework both high-level features (easy to use, efficient, and not flexible) and low-level features (powerful and scalable, not easy to use, but very flexible)"
      ]
    },
    {
      "cell_type": "markdown",
      "metadata": {
        "id": "gLhVSdOYo6kC"
      },
      "source": [
        ">Eager execution is the default in TensorFlow 2 and, as such, needs no special setup.\n",
        ">The following code can be used to find out whether a CPU or GPU is in use and if it's a GPU, whether that GPU is #0.\n"
      ]
    },
    {
      "cell_type": "markdown",
      "metadata": {
        "id": "vtVNwFRBo6kD"
      },
      "source": [
        "### GPU/CPU Check"
      ]
    },
    {
      "cell_type": "code",
      "metadata": {
        "scrolled": true,
        "id": "33d8wy0qo6kE",
        "outputId": "e6aed247-dd57-403c-d401-76675820646b",
        "colab": {
          "base_uri": "https://localhost:8080/"
        }
      },
      "source": [
        "if tf.test.is_gpu_available():\n",
        "    print('Running on GPU')\n",
        "else:\n",
        "    print('Running on CPU')"
      ],
      "execution_count": null,
      "outputs": [
        {
          "output_type": "stream",
          "name": "stderr",
          "text": [
            "WARNING:tensorflow:From <ipython-input-2-16ea5becd632>:1: is_gpu_available (from tensorflow.python.framework.test_util) is deprecated and will be removed in a future version.\n",
            "Instructions for updating:\n",
            "Use `tf.config.list_physical_devices('GPU')` instead.\n"
          ]
        },
        {
          "output_type": "stream",
          "name": "stdout",
          "text": [
            "Running on GPU\n"
          ]
        }
      ]
    },
    {
      "cell_type": "code",
      "metadata": {
        "id": "__k9j3fto6kI",
        "outputId": "bc18999a-bb50-4a6d-c34f-c9963d92052c",
        "colab": {
          "base_uri": "https://localhost:8080/"
        }
      },
      "source": [
        "tf.config.list_physical_devices('CPU')"
      ],
      "execution_count": null,
      "outputs": [
        {
          "output_type": "execute_result",
          "data": {
            "text/plain": [
              "[PhysicalDevice(name='/physical_device:CPU:0', device_type='CPU')]"
            ]
          },
          "metadata": {},
          "execution_count": 3
        }
      ]
    },
    {
      "cell_type": "code",
      "metadata": {
        "id": "z-gyqu4Do6kM",
        "outputId": "0caf42ad-3303-4647-bd49-2f29dc4c9455",
        "colab": {
          "base_uri": "https://localhost:8080/"
        }
      },
      "source": [
        "tf.config.list_physical_devices('GPU')"
      ],
      "execution_count": null,
      "outputs": [
        {
          "output_type": "execute_result",
          "data": {
            "text/plain": [
              "[PhysicalDevice(name='/physical_device:GPU:0', device_type='GPU')]"
            ]
          },
          "metadata": {},
          "execution_count": 4
        }
      ]
    },
    {
      "cell_type": "markdown",
      "metadata": {
        "id": "BATf98QOo6kV"
      },
      "source": [
        "### Tensor Constant"
      ]
    },
    {
      "cell_type": "code",
      "metadata": {
        "id": "I5KQX6jwo6kY",
        "outputId": "234ac03b-4bdc-46be-e514-02c4267debf5",
        "colab": {
          "base_uri": "https://localhost:8080/"
        }
      },
      "source": [
        "ineuron = tf.constant(42)\n",
        "ineuron"
      ],
      "execution_count": null,
      "outputs": [
        {
          "output_type": "execute_result",
          "data": {
            "text/plain": [
              "<tf.Tensor: shape=(), dtype=int32, numpy=42>"
            ]
          },
          "metadata": {},
          "execution_count": 5
        }
      ]
    },
    {
      "cell_type": "code",
      "metadata": {
        "id": "I0aysDFSo6kf",
        "outputId": "b08907bd-20bb-45d9-a568-afeeeff53c47",
        "colab": {
          "base_uri": "https://localhost:8080/"
        }
      },
      "source": [
        "ineuron.numpy()"
      ],
      "execution_count": null,
      "outputs": [
        {
          "output_type": "execute_result",
          "data": {
            "text/plain": [
              "42"
            ]
          },
          "metadata": {},
          "execution_count": 6
        }
      ]
    },
    {
      "cell_type": "code",
      "metadata": {
        "id": "U7Zu1JwTo6ki",
        "outputId": "8a0f054e-9bbe-4a03-8452-12adec581e5d",
        "colab": {
          "base_uri": "https://localhost:8080/"
        }
      },
      "source": [
        "ineuron1 = tf.constant(1, dtype = tf.int64)\n",
        "ineuron1"
      ],
      "execution_count": null,
      "outputs": [
        {
          "output_type": "execute_result",
          "data": {
            "text/plain": [
              "<tf.Tensor: shape=(), dtype=int64, numpy=1>"
            ]
          },
          "metadata": {},
          "execution_count": 7
        }
      ]
    },
    {
      "cell_type": "code",
      "source": [
        "num=tf.constant(34,dtype=tf.int32)\n",
        "print(num)\n",
        "print(num.numpy())"
      ],
      "metadata": {
        "id": "gtrmkMEpbhWw",
        "outputId": "c1748273-7a59-48e2-a351-853514a38cd7",
        "colab": {
          "base_uri": "https://localhost:8080/"
        }
      },
      "execution_count": null,
      "outputs": [
        {
          "output_type": "stream",
          "name": "stdout",
          "text": [
            "tf.Tensor(34, shape=(), dtype=int32)\n",
            "34\n"
          ]
        }
      ]
    },
    {
      "cell_type": "code",
      "source": [
        "mat=tf.constant([[34,23],[78,97]])\n",
        "print(mat)\n",
        "print(mat.numpy())"
      ],
      "metadata": {
        "id": "pTuIii4ib4SS",
        "outputId": "42c0bfbb-527a-4641-885f-a6b2c596202c",
        "colab": {
          "base_uri": "https://localhost:8080/"
        }
      },
      "execution_count": null,
      "outputs": [
        {
          "output_type": "stream",
          "name": "stdout",
          "text": [
            "tf.Tensor(\n",
            "[[34 23]\n",
            " [78 97]], shape=(2, 2), dtype=int32)\n",
            "[[34 23]\n",
            " [78 97]]\n"
          ]
        }
      ]
    },
    {
      "cell_type": "code",
      "metadata": {
        "id": "jxjR2bsro6kl",
        "outputId": "01ad8461-6203-4ec7-c913-ce8ad4ab625e",
        "colab": {
          "base_uri": "https://localhost:8080/"
        }
      },
      "source": [
        "ineuron_x = tf.constant([[4,2],[9,5]])\n",
        "print(ineuron_x)\n"
      ],
      "execution_count": null,
      "outputs": [
        {
          "output_type": "stream",
          "name": "stdout",
          "text": [
            "tf.Tensor(\n",
            "[[4 2]\n",
            " [9 5]], shape=(2, 2), dtype=int32)\n"
          ]
        }
      ]
    },
    {
      "cell_type": "code",
      "metadata": {
        "id": "xl5lq0R4o6kp",
        "outputId": "1d62abb0-37d3-466e-fb3c-be6e97882b75",
        "colab": {
          "base_uri": "https://localhost:8080/"
        }
      },
      "source": [
        "ineuron_x.numpy()"
      ],
      "execution_count": null,
      "outputs": [
        {
          "output_type": "execute_result",
          "data": {
            "text/plain": [
              "array([[4, 2],\n",
              "       [9, 5]], dtype=int32)"
            ]
          },
          "metadata": {},
          "execution_count": 9
        }
      ]
    },
    {
      "cell_type": "code",
      "metadata": {
        "id": "k4mHx-xko6kx",
        "outputId": "5db612af-64c7-4e2e-8070-d419957c3070",
        "colab": {
          "base_uri": "https://localhost:8080/"
        }
      },
      "source": [
        "print('shape:',ineuron_x.shape)\n",
        "print(ineuron_x.dtype)"
      ],
      "execution_count": null,
      "outputs": [
        {
          "output_type": "stream",
          "name": "stdout",
          "text": [
            "shape: (2, 2)\n",
            "<dtype: 'int32'>\n"
          ]
        }
      ]
    },
    {
      "cell_type": "markdown",
      "metadata": {
        "id": "SSoA-E_Wo6k0"
      },
      "source": [
        "#### Commonly used method is to generate constant tf.ones and the tf.zeros like of numpy np.ones & np.zeros"
      ]
    },
    {
      "cell_type": "code",
      "metadata": {
        "id": "K2LrUAAOo6k1",
        "outputId": "993a25aa-7655-4a3c-f403-758a9495e27f",
        "colab": {
          "base_uri": "https://localhost:8080/"
        }
      },
      "source": [
        "tf.ones(shape=(3,3))"
      ],
      "execution_count": null,
      "outputs": [
        {
          "output_type": "execute_result",
          "data": {
            "text/plain": [
              "<tf.Tensor: shape=(3, 3), dtype=float32, numpy=\n",
              "array([[1., 1., 1.],\n",
              "       [1., 1., 1.],\n",
              "       [1., 1., 1.]], dtype=float32)>"
            ]
          },
          "metadata": {},
          "execution_count": 15
        }
      ]
    },
    {
      "cell_type": "code",
      "source": [
        "tf.zeros(shape=(8,10,2))"
      ],
      "metadata": {
        "id": "kRYm3bjkcZsR",
        "outputId": "1418a089-79cb-4bcf-b822-d4242575b596",
        "colab": {
          "base_uri": "https://localhost:8080/"
        }
      },
      "execution_count": null,
      "outputs": [
        {
          "output_type": "execute_result",
          "data": {
            "text/plain": [
              "<tf.Tensor: shape=(8, 10, 2), dtype=float32, numpy=\n",
              "array([[[0., 0.],\n",
              "        [0., 0.],\n",
              "        [0., 0.],\n",
              "        [0., 0.],\n",
              "        [0., 0.],\n",
              "        [0., 0.],\n",
              "        [0., 0.],\n",
              "        [0., 0.],\n",
              "        [0., 0.],\n",
              "        [0., 0.]],\n",
              "\n",
              "       [[0., 0.],\n",
              "        [0., 0.],\n",
              "        [0., 0.],\n",
              "        [0., 0.],\n",
              "        [0., 0.],\n",
              "        [0., 0.],\n",
              "        [0., 0.],\n",
              "        [0., 0.],\n",
              "        [0., 0.],\n",
              "        [0., 0.]],\n",
              "\n",
              "       [[0., 0.],\n",
              "        [0., 0.],\n",
              "        [0., 0.],\n",
              "        [0., 0.],\n",
              "        [0., 0.],\n",
              "        [0., 0.],\n",
              "        [0., 0.],\n",
              "        [0., 0.],\n",
              "        [0., 0.],\n",
              "        [0., 0.]],\n",
              "\n",
              "       [[0., 0.],\n",
              "        [0., 0.],\n",
              "        [0., 0.],\n",
              "        [0., 0.],\n",
              "        [0., 0.],\n",
              "        [0., 0.],\n",
              "        [0., 0.],\n",
              "        [0., 0.],\n",
              "        [0., 0.],\n",
              "        [0., 0.]],\n",
              "\n",
              "       [[0., 0.],\n",
              "        [0., 0.],\n",
              "        [0., 0.],\n",
              "        [0., 0.],\n",
              "        [0., 0.],\n",
              "        [0., 0.],\n",
              "        [0., 0.],\n",
              "        [0., 0.],\n",
              "        [0., 0.],\n",
              "        [0., 0.]],\n",
              "\n",
              "       [[0., 0.],\n",
              "        [0., 0.],\n",
              "        [0., 0.],\n",
              "        [0., 0.],\n",
              "        [0., 0.],\n",
              "        [0., 0.],\n",
              "        [0., 0.],\n",
              "        [0., 0.],\n",
              "        [0., 0.],\n",
              "        [0., 0.]],\n",
              "\n",
              "       [[0., 0.],\n",
              "        [0., 0.],\n",
              "        [0., 0.],\n",
              "        [0., 0.],\n",
              "        [0., 0.],\n",
              "        [0., 0.],\n",
              "        [0., 0.],\n",
              "        [0., 0.],\n",
              "        [0., 0.],\n",
              "        [0., 0.]],\n",
              "\n",
              "       [[0., 0.],\n",
              "        [0., 0.],\n",
              "        [0., 0.],\n",
              "        [0., 0.],\n",
              "        [0., 0.],\n",
              "        [0., 0.],\n",
              "        [0., 0.],\n",
              "        [0., 0.],\n",
              "        [0., 0.],\n",
              "        [0., 0.]]], dtype=float32)>"
            ]
          },
          "metadata": {},
          "execution_count": 18
        }
      ]
    },
    {
      "cell_type": "code",
      "metadata": {
        "id": "skUuY3nPo6lE",
        "outputId": "9782ffbf-51bf-442b-d6dd-471a59df424d",
        "colab": {
          "base_uri": "https://localhost:8080/"
        }
      },
      "source": [
        "print(tf.zeros(shape=(3,2)))"
      ],
      "execution_count": null,
      "outputs": [
        {
          "output_type": "stream",
          "name": "stdout",
          "text": [
            "tf.Tensor(\n",
            "[[0. 0.]\n",
            " [0. 0.]\n",
            " [0. 0.]], shape=(3, 2), dtype=float32)\n"
          ]
        }
      ]
    },
    {
      "cell_type": "code",
      "source": [
        "#addition\n",
        "a=tf.constant([[3,4,5],[4,5,6]])\n",
        "b=tf.constant([[3,4,5],[4,5,6]])\n",
        "tf.add(a,b).numpy()"
      ],
      "metadata": {
        "id": "QwYt87ivclES",
        "outputId": "f46d6871-32fb-4e3d-fb96-3ed2f19f0c04",
        "colab": {
          "base_uri": "https://localhost:8080/"
        }
      },
      "execution_count": null,
      "outputs": [
        {
          "output_type": "execute_result",
          "data": {
            "text/plain": [
              "array([[ 6,  8, 10],\n",
              "       [ 8, 10, 12]], dtype=int32)"
            ]
          },
          "metadata": {},
          "execution_count": 20
        }
      ]
    },
    {
      "cell_type": "code",
      "metadata": {
        "id": "2uSrMwmLo6lN",
        "outputId": "7308a8cc-9966-46d2-f3ab-0be48f788745",
        "colab": {
          "base_uri": "https://localhost:8080/"
        }
      },
      "source": [
        "import tensorflow as tf\n",
        "\n",
        "const2 = tf.constant([[3,4,5], [3,4,5]])\n",
        "const1 = tf.constant([[1,2,3], [1,2,3]])\n",
        "result = tf.add(const1, const2)\n",
        "\n",
        "print(result)"
      ],
      "execution_count": null,
      "outputs": [
        {
          "output_type": "stream",
          "name": "stdout",
          "text": [
            "tf.Tensor(\n",
            "[[4 6 8]\n",
            " [4 6 8]], shape=(2, 3), dtype=int32)\n"
          ]
        }
      ]
    },
    {
      "cell_type": "markdown",
      "metadata": {
        "id": "oIVzyT_so6lR"
      },
      "source": [
        ">We have defined two constants and we add one value to the other.\n",
        ">As a result, we got a Tensor object with the result of the adding."
      ]
    },
    {
      "cell_type": "markdown",
      "metadata": {
        "id": "A6SYhN59o6lS"
      },
      "source": [
        "#### Random constant"
      ]
    },
    {
      "cell_type": "code",
      "metadata": {
        "id": "51uGW1Ebo6lT",
        "outputId": "3ccb29a4-aa95-4430-ccc0-3065cc0caca8",
        "colab": {
          "base_uri": "https://localhost:8080/"
        }
      },
      "source": [
        "tf.random.normal(shape=(2,2),mean=0,stddev=1.0)"
      ],
      "execution_count": null,
      "outputs": [
        {
          "output_type": "execute_result",
          "data": {
            "text/plain": [
              "<tf.Tensor: shape=(2, 2), dtype=float32, numpy=\n",
              "array([[-0.37854993,  0.7752413 ],\n",
              "       [ 1.4218645 ,  1.1185031 ]], dtype=float32)>"
            ]
          },
          "metadata": {},
          "execution_count": 17
        }
      ]
    },
    {
      "cell_type": "code",
      "source": [
        "tf.random.normal(shape=(2,3),mean=0,stddev=1)"
      ],
      "metadata": {
        "id": "-v4XiRDMdCSR",
        "outputId": "d21e95c9-3f7e-4368-d93c-342597d9c38a",
        "colab": {
          "base_uri": "https://localhost:8080/"
        }
      },
      "execution_count": null,
      "outputs": [
        {
          "output_type": "execute_result",
          "data": {
            "text/plain": [
              "<tf.Tensor: shape=(2, 3), dtype=float32, numpy=\n",
              "array([[-0.9667324 ,  1.68911   , -0.03775874],\n",
              "       [ 1.2788485 , -0.76068205,  1.4238356 ]], dtype=float32)>"
            ]
          },
          "metadata": {},
          "execution_count": 21
        }
      ]
    },
    {
      "cell_type": "code",
      "metadata": {
        "id": "eWpjuF8co6l1",
        "outputId": "9c0fd86b-762d-4f95-b134-c808c694993c",
        "colab": {
          "base_uri": "https://localhost:8080/"
        }
      },
      "source": [
        "tf.random.uniform(shape=(2,2),minval=0,maxval=10,dtype=tf.int32)"
      ],
      "execution_count": null,
      "outputs": [
        {
          "output_type": "execute_result",
          "data": {
            "text/plain": [
              "<tf.Tensor: shape=(2, 2), dtype=int32, numpy=\n",
              "array([[7, 6],\n",
              "       [7, 3]], dtype=int32)>"
            ]
          },
          "metadata": {},
          "execution_count": 18
        }
      ]
    },
    {
      "cell_type": "markdown",
      "metadata": {
        "id": "8b8UTNQMo6l_"
      },
      "source": [
        "### Variables"
      ]
    },
    {
      "cell_type": "markdown",
      "metadata": {
        "id": "x3uqOHkgo6l_"
      },
      "source": [
        ">A variable is a special tensor that is used to store variable values ​​and needs to be initialized with some values.\n",
        "\n",
        "variables are used for values that need to be updated during training, while constants are used for values that remain fixed throughout the execution of a TensorFlow graph."
      ]
    },
    {
      "cell_type": "markdown",
      "metadata": {
        "id": "dya1IJlZo6mA"
      },
      "source": [
        "#### Declaring variables"
      ]
    },
    {
      "cell_type": "code",
      "metadata": {
        "id": "2nyoFHjko6mA",
        "outputId": "2018a9da-9e67-4504-9566-9a6c808bc15a",
        "colab": {
          "base_uri": "https://localhost:8080/"
        }
      },
      "source": [
        "var0 = 24 # python variable\n",
        "var1 = tf.Variable(42) # rank 0 tensor\n",
        "var2 = tf.Variable([ [ [0., 1., 2.], [3., 4., 5.] ], [ [6., 7., 8.], [9., 10., 11.] ] ]) #rank 3 tensor\n",
        "var0, var1, var2"
      ],
      "execution_count": null,
      "outputs": [
        {
          "output_type": "execute_result",
          "data": {
            "text/plain": [
              "(24,\n",
              " <tf.Variable 'Variable:0' shape=() dtype=int32, numpy=42>,\n",
              " <tf.Variable 'Variable:0' shape=(2, 2, 3) dtype=float32, numpy=\n",
              " array([[[ 0.,  1.,  2.],\n",
              "         [ 3.,  4.,  5.]],\n",
              " \n",
              "        [[ 6.,  7.,  8.],\n",
              "         [ 9., 10., 11.]]], dtype=float32)>)"
            ]
          },
          "metadata": {},
          "execution_count": 19
        }
      ]
    },
    {
      "cell_type": "code",
      "source": [
        "var1=34\n",
        "var2=tf.Variable(354)\n",
        "var3=tf.Variable([ [ [0., 1., 2.], [3., 4., 5.] ], [ [6., 7., 8.], [9., 10., 11.] ] ])\n",
        "var1,var2,var3"
      ],
      "metadata": {
        "id": "KudjFLQgd7KY",
        "outputId": "b4f8b6f4-b3d5-41bd-9948-0c00400eae47",
        "colab": {
          "base_uri": "https://localhost:8080/"
        }
      },
      "execution_count": null,
      "outputs": [
        {
          "output_type": "execute_result",
          "data": {
            "text/plain": [
              "(34,\n",
              " <tf.Variable 'Variable:0' shape=() dtype=int32, numpy=354>,\n",
              " <tf.Variable 'Variable:0' shape=(2, 2, 3) dtype=float32, numpy=\n",
              " array([[[ 0.,  1.,  2.],\n",
              "         [ 3.,  4.,  5.]],\n",
              " \n",
              "        [[ 6.,  7.,  8.],\n",
              "         [ 9., 10., 11.]]], dtype=float32)>)"
            ]
          },
          "metadata": {},
          "execution_count": 22
        }
      ]
    },
    {
      "cell_type": "markdown",
      "metadata": {
        "id": "pJMoPBBUo6mE"
      },
      "source": [
        ">TensorFlow will infer the datatype, defaulting to tf.float32 for floats and tf.int32 for integers"
      ]
    },
    {
      "cell_type": "markdown",
      "metadata": {
        "id": "0ArkIQOFo6mF"
      },
      "source": [
        "#### The datatype can be explicitly specified"
      ]
    },
    {
      "cell_type": "code",
      "metadata": {
        "id": "zU0WznZ8o6mH",
        "outputId": "d2599af3-655e-425c-abe9-c3befe423474",
        "colab": {
          "base_uri": "https://localhost:8080/"
        }
      },
      "source": [
        "float_var64 = tf.Variable(89, dtype = tf.float64)\n",
        "float_var64.dtype"
      ],
      "execution_count": null,
      "outputs": [
        {
          "output_type": "execute_result",
          "data": {
            "text/plain": [
              "tf.float64"
            ]
          },
          "metadata": {},
          "execution_count": 20
        }
      ]
    },
    {
      "cell_type": "markdown",
      "metadata": {
        "id": "9eaa5NI7o6mL"
      },
      "source": [
        "`TensorFlow has a large number of built-in datatypes.`\n",
        "\n",
        "datatype | description\n",
        "- | -\n",
        " tf.float16 | 16-bit half-precision floating-point.\n",
        " tf.float32 | 32-bit single-precision floating-point.\n",
        " tf.float64 | 64-bit double-precision floating-point.\n",
        " tf.bfloat16 | 16-bit truncated floating-point.\n",
        " tf.complex64 | 64-bit single-precision complex.\n",
        " tf.complex128 | 128-bit double-precision complex.\n",
        " tf.int8 | 8-bit signed integer.\n",
        " tf.uint8 | 8-bit unsigned integer.\n",
        " tf.uint16 | 16-bit unsigned integer.\n",
        " tf.uint32 | 32-bit unsigned integer.\n",
        " tf.uint64 | 64-bit unsigned integer.\n",
        " tf.int16 | 16-bit signed integer.\n",
        " tf.int32 | 32-bit signed integer.\n",
        " tf.int64 | 64-bit signed integer.\n",
        " tf.bool | Boolean.\n",
        " tf.string | String.\n",
        " tf.qint8 | Quantized 8-bit signed integer.\n",
        " tf.quint8 | Quantized 8-bit unsigned integer.\n",
        " tf.qint16 | Quantized 16-bit signed integer.\n",
        " tf.quint16 | Quantized 16-bit unsigned integer.\n",
        " tf.qint32 | Quantized 32-bit signed integer.\n",
        " tf.resource | Handle to a mutable resource.\n",
        " tf.variant | Values of arbitrary types.\n"
      ]
    },
    {
      "cell_type": "markdown",
      "metadata": {
        "id": "ahjlKCGbo6mL"
      },
      "source": [
        "#### To reassign a variable, use var.assign()"
      ]
    },
    {
      "cell_type": "code",
      "source": [
        "a=tf.Variable(45)\n",
        "a.assign(56778)\n",
        "a.numpy()"
      ],
      "metadata": {
        "id": "Q6svDtTtejrI",
        "outputId": "268cda0a-2fb4-4c5b-b245-aadab738727d",
        "colab": {
          "base_uri": "https://localhost:8080/"
        }
      },
      "execution_count": null,
      "outputs": [
        {
          "output_type": "execute_result",
          "data": {
            "text/plain": [
              "56778"
            ]
          },
          "metadata": {},
          "execution_count": 24
        }
      ]
    },
    {
      "cell_type": "code",
      "metadata": {
        "id": "O0UBJk1jo6mM",
        "outputId": "13e47e07-00a3-49ef-fd0c-c2e98f67d66b",
        "colab": {
          "base_uri": "https://localhost:8080/"
        }
      },
      "source": [
        "var_reassign = tf.Variable(89.)\n",
        "var_reassign"
      ],
      "execution_count": null,
      "outputs": [
        {
          "output_type": "execute_result",
          "data": {
            "text/plain": [
              "<tf.Variable 'Variable:0' shape=() dtype=float32, numpy=89.0>"
            ]
          },
          "metadata": {},
          "execution_count": 21
        }
      ]
    },
    {
      "cell_type": "code",
      "metadata": {
        "id": "muEfqqppo6mP",
        "outputId": "49e1bf9e-a068-4cbe-b5d5-a9c106647ffc",
        "colab": {
          "base_uri": "https://localhost:8080/"
        }
      },
      "source": [
        "var_reassign.assign(98.)\n",
        "var_reassign"
      ],
      "execution_count": null,
      "outputs": [
        {
          "output_type": "execute_result",
          "data": {
            "text/plain": [
              "<tf.Variable 'Variable:0' shape=() dtype=float32, numpy=98.0>"
            ]
          },
          "metadata": {},
          "execution_count": 22
        }
      ]
    },
    {
      "cell_type": "code",
      "source": [
        "list1=tf.random.normal(shape=(2,2))\n",
        "tf.Variable(list1)\n"
      ],
      "metadata": {
        "id": "vgT2V6Due0Vf",
        "outputId": "2b980d8f-ac22-40fd-90ea-fdc8d1701859",
        "colab": {
          "base_uri": "https://localhost:8080/"
        }
      },
      "execution_count": null,
      "outputs": [
        {
          "output_type": "execute_result",
          "data": {
            "text/plain": [
              "<tf.Variable 'Variable:0' shape=(2, 2) dtype=float32, numpy=\n",
              "array([[ 1.3759732 ,  0.11519273],\n",
              "       [ 0.20491356, -0.05472693]], dtype=float32)>"
            ]
          },
          "metadata": {},
          "execution_count": 25
        }
      ]
    },
    {
      "cell_type": "code",
      "metadata": {
        "id": "JtjYtaqOo6mX",
        "outputId": "0b02a0e9-e37e-4865-e461-7a6b1c7a06e0",
        "colab": {
          "base_uri": "https://localhost:8080/"
        }
      },
      "source": [
        "initial_value = tf.random.normal(shape=(2,2))\n",
        "a = tf.Variable(initial_value)\n",
        "print(a)"
      ],
      "execution_count": null,
      "outputs": [
        {
          "output_type": "stream",
          "name": "stdout",
          "text": [
            "<tf.Variable 'Variable:0' shape=(2, 2) dtype=float32, numpy=\n",
            "array([[ 1.007538  ,  0.90166533],\n",
            "       [-1.1097176 , -1.9102186 ]], dtype=float32)>\n"
          ]
        }
      ]
    },
    {
      "cell_type": "markdown",
      "metadata": {
        "id": "lmh4YqXfo6md"
      },
      "source": [
        ">We can assign \"=\" with assign (value), or assign_add (value) with \"+ =\", or assign_sub (value) with \"-=\""
      ]
    },
    {
      "cell_type": "code",
      "metadata": {
        "id": "ILD0iFJFo6me"
      },
      "source": [
        "new_value = tf.random.normal(shape=(2, 2))\n",
        "a.assign(new_value)\n",
        "for i in range(2):\n",
        "    for j in range(2):\n",
        "        assert a[i, j] == new_value[i, j]"
      ],
      "execution_count": null,
      "outputs": []
    },
    {
      "cell_type": "code",
      "metadata": {
        "id": "HE6oNyQ0o6mi"
      },
      "source": [
        "added_value = tf.random.normal(shape=(2,2))\n",
        "a.assign_add(added_value)\n",
        "for i in range(2):\n",
        "    for j in range(2):\n",
        "        assert a[i,j] == new_value[i,j]+added_value[i,j]"
      ],
      "execution_count": null,
      "outputs": []
    },
    {
      "cell_type": "markdown",
      "metadata": {
        "id": "Ep28eoPqo6ml"
      },
      "source": [
        "#### Shaping a tensor"
      ]
    },
    {
      "cell_type": "code",
      "metadata": {
        "id": "pwoBmXs2o6mm",
        "outputId": "8fda88f8-6762-4a3c-e987-5b205d82449b",
        "colab": {
          "base_uri": "https://localhost:8080/"
        }
      },
      "source": [
        "tensor = tf.Variable([ [ [0., 1., 2.], [3., 4., 5.] ], [ [6., 7., 8.], [9., 10., 11.] ] ]) # tensor variable   12\n",
        "print(tensor.shape)"
      ],
      "execution_count": null,
      "outputs": [
        {
          "output_type": "stream",
          "name": "stdout",
          "text": [
            "(2, 2, 3)\n"
          ]
        }
      ]
    },
    {
      "cell_type": "code",
      "source": [
        "# lets reshare it\n",
        "t1=tf.reshape(tensor,[3,4])\n",
        "t2=tf.reshape(tensor,[6,2,1])\n",
        "t1,t2"
      ],
      "metadata": {
        "id": "nYnJmjpJgVUi",
        "outputId": "68280fd7-be6d-461d-b384-d63e1cb1bb1c",
        "colab": {
          "base_uri": "https://localhost:8080/"
        }
      },
      "execution_count": null,
      "outputs": [
        {
          "output_type": "execute_result",
          "data": {
            "text/plain": [
              "(<tf.Tensor: shape=(3, 4), dtype=float32, numpy=\n",
              " array([[ 0.,  1.,  2.,  3.],\n",
              "        [ 4.,  5.,  6.,  7.],\n",
              "        [ 8.,  9., 10., 11.]], dtype=float32)>,\n",
              " <tf.Tensor: shape=(6, 2, 1), dtype=float32, numpy=\n",
              " array([[[ 0.],\n",
              "         [ 1.]],\n",
              " \n",
              "        [[ 2.],\n",
              "         [ 3.]],\n",
              " \n",
              "        [[ 4.],\n",
              "         [ 5.]],\n",
              " \n",
              "        [[ 6.],\n",
              "         [ 7.]],\n",
              " \n",
              "        [[ 8.],\n",
              "         [ 9.]],\n",
              " \n",
              "        [[10.],\n",
              "         [11.]]], dtype=float32)>)"
            ]
          },
          "metadata": {},
          "execution_count": 36
        }
      ]
    },
    {
      "cell_type": "markdown",
      "metadata": {
        "id": "Hlwshsu0o6mt"
      },
      "source": [
        "#### Tensors may be reshaped and retain the same values, as is often required for constructing neural networks.\n"
      ]
    },
    {
      "cell_type": "code",
      "metadata": {
        "id": "qw6jdTUUo6mv",
        "outputId": "6bdcf34e-0e80-4b4e-efd1-2cfca070c22a",
        "colab": {
          "base_uri": "https://localhost:8080/"
        }
      },
      "source": [
        "tensor1 = tf.reshape(tensor,[2,6]) # 2 rows 6 cols\n",
        "tensor2 = tf.reshape(tensor,[1,12,1]) # 1 rows 12 cols\n",
        "tensor1"
      ],
      "execution_count": null,
      "outputs": [
        {
          "output_type": "execute_result",
          "data": {
            "text/plain": [
              "<tf.Tensor: shape=(2, 6), dtype=float32, numpy=\n",
              "array([[ 0.,  1.,  2.,  3.,  4.,  5.],\n",
              "       [ 6.,  7.,  8.,  9., 10., 11.]], dtype=float32)>"
            ]
          },
          "metadata": {},
          "execution_count": 35
        }
      ]
    },
    {
      "cell_type": "code",
      "metadata": {
        "id": "95o_Zd2uo6m1",
        "outputId": "79295541-811a-45cd-f2aa-a79daa4f9efa",
        "colab": {
          "base_uri": "https://localhost:8080/"
        }
      },
      "source": [
        "tensor2 = tf.reshape(tensor,[1,12]) # 1 row 12 columns\n",
        "tensor2"
      ],
      "execution_count": null,
      "outputs": [
        {
          "output_type": "execute_result",
          "data": {
            "text/plain": [
              "<tf.Tensor: shape=(1, 12), dtype=float32, numpy=\n",
              "array([[ 0.,  1.,  2.,  3.,  4.,  5.,  6.,  7.,  8.,  9., 10., 11.]],\n",
              "      dtype=float32)>"
            ]
          },
          "metadata": {},
          "execution_count": 28
        }
      ]
    },
    {
      "cell_type": "markdown",
      "metadata": {
        "id": "J4BqtvoQo6m5"
      },
      "source": [
        "### Ranking (dimensions) of a tensor"
      ]
    },
    {
      "cell_type": "markdown",
      "metadata": {
        "id": "eDbyCKzDo6m6"
      },
      "source": [
        ">The rank of a tensor is the number of dimensions it has, that is, the number of indices that are required to specify any particular element of that tensor."
      ]
    },
    {
      "cell_type": "code",
      "metadata": {
        "id": "QUWZuo0Qo6m7",
        "outputId": "05bfb22d-9f83-4c39-bb34-994507dbe712",
        "colab": {
          "base_uri": "https://localhost:8080/"
        }
      },
      "source": [
        "tf.rank(tensor)"
      ],
      "execution_count": null,
      "outputs": [
        {
          "output_type": "execute_result",
          "data": {
            "text/plain": [
              "<tf.Tensor: shape=(), dtype=int32, numpy=3>"
            ]
          },
          "metadata": {},
          "execution_count": 30
        }
      ]
    },
    {
      "cell_type": "markdown",
      "metadata": {
        "id": "i2XwSyMwo6nB"
      },
      "source": [
        ">(the shape is () because the output here is a scalar value)"
      ]
    },
    {
      "cell_type": "code",
      "source": [
        "tf.rank(t1).numpy()\n"
      ],
      "metadata": {
        "id": "M2tqqC8Cgvr5",
        "outputId": "44f25f01-2cd3-44ee-e636-29d84cbcd0f7",
        "colab": {
          "base_uri": "https://localhost:8080/"
        }
      },
      "execution_count": null,
      "outputs": [
        {
          "output_type": "execute_result",
          "data": {
            "text/plain": [
              "2"
            ]
          },
          "metadata": {},
          "execution_count": 37
        }
      ]
    },
    {
      "cell_type": "code",
      "source": [
        "tf.rank(t2).numpy()"
      ],
      "metadata": {
        "id": "Lab18eINg0WS",
        "outputId": "49b24555-2b3e-4587-8c2e-26fc89ed8d62",
        "colab": {
          "base_uri": "https://localhost:8080/"
        }
      },
      "execution_count": null,
      "outputs": [
        {
          "output_type": "execute_result",
          "data": {
            "text/plain": [
              "3"
            ]
          },
          "metadata": {},
          "execution_count": 38
        }
      ]
    },
    {
      "cell_type": "markdown",
      "metadata": {
        "id": "Z17NN2Ydo6nB"
      },
      "source": [
        "#### Specifying an element of a tensor"
      ]
    },
    {
      "cell_type": "code",
      "metadata": {
        "id": "WZ3iE66do6nC",
        "outputId": "6c279094-0bb6-4484-ae52-acaa701cb9fa",
        "colab": {
          "base_uri": "https://localhost:8080/"
        }
      },
      "source": [
        "tensor3 = tensor[1, 0, 2] # slice 1, row 0, column 2\n",
        "tensor3"
      ],
      "execution_count": null,
      "outputs": [
        {
          "output_type": "execute_result",
          "data": {
            "text/plain": [
              "<tf.Tensor: shape=(), dtype=float32, numpy=8.0>"
            ]
          },
          "metadata": {},
          "execution_count": 30
        }
      ]
    },
    {
      "cell_type": "markdown",
      "metadata": {
        "id": "pt1-bNNoo6nE"
      },
      "source": [
        "#### Casting a tensor to a NumPy/Python variable"
      ]
    },
    {
      "cell_type": "code",
      "metadata": {
        "id": "nf-4wqIDo6nF",
        "outputId": "e5d1736f-bb3d-47f1-be5e-e8cf89fff301",
        "colab": {
          "base_uri": "https://localhost:8080/"
        }
      },
      "source": [
        "print(tensor.numpy())"
      ],
      "execution_count": null,
      "outputs": [
        {
          "output_type": "stream",
          "name": "stdout",
          "text": [
            "[[[ 0.  1.  2.]\n",
            "  [ 3.  4.  5.]]\n",
            "\n",
            " [[ 6.  7.  8.]\n",
            "  [ 9. 10. 11.]]]\n"
          ]
        }
      ]
    },
    {
      "cell_type": "code",
      "metadata": {
        "id": "4BAMBEhBo6nH",
        "outputId": "3c824d23-6258-4ca4-e6fc-36420ecbf14c",
        "colab": {
          "base_uri": "https://localhost:8080/"
        }
      },
      "source": [
        "print(tensor[1, 0, 2].numpy())"
      ],
      "execution_count": null,
      "outputs": [
        {
          "output_type": "stream",
          "name": "stdout",
          "text": [
            "8.0\n"
          ]
        }
      ]
    },
    {
      "cell_type": "markdown",
      "metadata": {
        "id": "ibmUB8KDo6nK"
      },
      "source": [
        "#### Finding the size (number of elements) of a tensor"
      ]
    },
    {
      "cell_type": "code",
      "metadata": {
        "id": "3pzO6SJXo6nK",
        "outputId": "b1944dfc-15ff-4042-b666-c1ab78031478",
        "colab": {
          "base_uri": "https://localhost:8080/"
        }
      },
      "source": [
        "tensor_size = tf.size(input=tensor).numpy()\n",
        "tensor_size"
      ],
      "execution_count": null,
      "outputs": [
        {
          "output_type": "execute_result",
          "data": {
            "text/plain": [
              "12"
            ]
          },
          "metadata": {},
          "execution_count": 33
        }
      ]
    },
    {
      "cell_type": "code",
      "metadata": {
        "id": "1kxI6HVio6nO",
        "outputId": "3ec5a4b3-1378-49c4-d7fa-2b0a98ceb11d",
        "colab": {
          "base_uri": "https://localhost:8080/"
        }
      },
      "source": [
        "#the datatype of a tensor\n",
        "tensor3.dtype"
      ],
      "execution_count": null,
      "outputs": [
        {
          "output_type": "execute_result",
          "data": {
            "text/plain": [
              "tf.float32"
            ]
          },
          "metadata": {},
          "execution_count": 34
        }
      ]
    },
    {
      "cell_type": "markdown",
      "metadata": {
        "id": "fMwV8eiNo6nR"
      },
      "source": [
        "### Tensorflow mathematical operations\n",
        ">Can be used as numpy for artificial operations. Tensorflow can not execute these operations on the GPU or TPU.\n"
      ]
    },
    {
      "cell_type": "code",
      "metadata": {
        "id": "ot2cJT36o6nR",
        "outputId": "762c7e5f-6dc3-44e9-fe76-dad809a834c9",
        "colab": {
          "base_uri": "https://localhost:8080/"
        }
      },
      "source": [
        "a = tf.random.normal(shape=(2,2))\n",
        "b = tf.random.normal(shape=(2,2))\n",
        "c = a+b\n",
        "d = tf.square(c)\n",
        "e = tf.exp(c)\n",
        "print(a)\n",
        "print(b)\n",
        "print(c)\n",
        "print(d)\n",
        "print(e)"
      ],
      "execution_count": null,
      "outputs": [
        {
          "output_type": "stream",
          "name": "stdout",
          "text": [
            "tf.Tensor(\n",
            "[[-0.24671447  0.8228442 ]\n",
            " [ 1.4005157  -0.21337971]], shape=(2, 2), dtype=float32)\n",
            "tf.Tensor(\n",
            "[[-1.0893056  -0.98363787]\n",
            " [-0.5615219  -0.26913118]], shape=(2, 2), dtype=float32)\n",
            "tf.Tensor(\n",
            "[[-1.3360201  -0.16079366]\n",
            " [ 0.8389938  -0.4825109 ]], shape=(2, 2), dtype=float32)\n",
            "tf.Tensor(\n",
            "[[1.7849498  0.0258546 ]\n",
            " [0.7039106  0.23281677]], shape=(2, 2), dtype=float32)\n",
            "tf.Tensor(\n",
            "[[0.26288986 0.8514677 ]\n",
            " [2.3140376  0.61723167]], shape=(2, 2), dtype=float32)\n"
          ]
        }
      ]
    },
    {
      "cell_type": "code",
      "source": [
        "a=tf.random.normal(shape=(3,3))\n",
        "b=tf.random.normal(shape=(3,3))\n",
        "c=a+b\n",
        "d=tf.square(c)\n",
        "e=tf.exp(c)\n",
        "a,b,c,d,e\n"
      ],
      "metadata": {
        "id": "mLHR7MRAhZMB",
        "outputId": "dcc578b8-b7aa-4be0-eeb5-9d38d7fe787a",
        "colab": {
          "base_uri": "https://localhost:8080/"
        }
      },
      "execution_count": null,
      "outputs": [
        {
          "output_type": "execute_result",
          "data": {
            "text/plain": [
              "(<tf.Tensor: shape=(3, 3), dtype=float32, numpy=\n",
              " array([[-0.2597278 , -0.25801215, -1.4348617 ],\n",
              "        [ 1.0702752 ,  0.34453118, -0.08978949],\n",
              "        [-1.8882277 , -0.5605543 ,  0.45051497]], dtype=float32)>,\n",
              " <tf.Tensor: shape=(3, 3), dtype=float32, numpy=\n",
              " array([[ 1.8718884 ,  0.13777015,  0.547489  ],\n",
              "        [-0.3119295 , -1.1422242 , -0.07179213],\n",
              "        [-0.68084943,  0.583752  ,  0.40863824]], dtype=float32)>,\n",
              " <tf.Tensor: shape=(3, 3), dtype=float32, numpy=\n",
              " array([[ 1.6121606 , -0.120242  , -0.8873727 ],\n",
              "        [ 0.7583457 , -0.797693  , -0.16158162],\n",
              "        [-2.569077  ,  0.02319765,  0.8591532 ]], dtype=float32)>,\n",
              " <tf.Tensor: shape=(3, 3), dtype=float32, numpy=\n",
              " array([[2.59906173e+00, 1.44581385e-02, 7.87430286e-01],\n",
              "        [5.75088263e-01, 6.36314154e-01, 2.61086207e-02],\n",
              "        [6.60015678e+00, 5.38130989e-04, 7.38144219e-01]], dtype=float32)>,\n",
              " <tf.Tensor: shape=(3, 3), dtype=float32, numpy=\n",
              " array([[5.013632  , 0.8867059 , 0.41173613],\n",
              "        [2.1347418 , 0.45036677, 0.85079706],\n",
              "        [0.07660622, 1.0234689 , 2.3611603 ]], dtype=float32)>)"
            ]
          },
          "metadata": {},
          "execution_count": 39
        }
      ]
    },
    {
      "cell_type": "markdown",
      "metadata": {
        "id": "_r8z7Wbio6nV"
      },
      "source": [
        "### Performing element-wise primitive tensor operations"
      ]
    },
    {
      "cell_type": "code",
      "metadata": {
        "id": "fBk1KI0Oo6nW",
        "outputId": "fdb90210-ea24-491e-daea-ae040cb4bacd",
        "colab": {
          "base_uri": "https://localhost:8080/"
        }
      },
      "source": [
        "tensor*tensor"
      ],
      "execution_count": null,
      "outputs": [
        {
          "output_type": "execute_result",
          "data": {
            "text/plain": [
              "<tf.Tensor: shape=(2, 2, 3), dtype=float32, numpy=\n",
              "array([[[  0.,   1.,   4.],\n",
              "        [  9.,  16.,  25.]],\n",
              "\n",
              "       [[ 36.,  49.,  64.],\n",
              "        [ 81., 100., 121.]]], dtype=float32)>"
            ]
          },
          "metadata": {},
          "execution_count": 36
        }
      ]
    },
    {
      "cell_type": "markdown",
      "metadata": {
        "id": "YRUWm7YIo6na"
      },
      "source": [
        "### Broadcasting\n",
        "\n",
        "In short, broadcasting in tensor-based libraries like NumPy and TensorFlow allows you to perform element-wise operations on tensors of different shapes by automatically aligning their dimensions in a way that makes sense, simplifying your code and making it more efficient. It avoids the need for explicit copying or reshaping of tensors.\n",
        "\n",
        "\n",
        ">Element-wise tensor operations support broadcasting in the same way that NumPy arrays do.\n",
        "\n",
        ">The simplest example is that of multiplying a tensor by a scalar:"
      ]
    },
    {
      "cell_type": "code",
      "metadata": {
        "id": "8QIOZ2IMo6nb",
        "outputId": "114f0eb4-7df7-4cac-f3db-20166b6e26e9",
        "colab": {
          "base_uri": "https://localhost:8080/"
        }
      },
      "source": [
        "tensor4 = tensor*4\n",
        "print(tensor4)"
      ],
      "execution_count": null,
      "outputs": [
        {
          "output_type": "stream",
          "name": "stdout",
          "text": [
            "tf.Tensor(\n",
            "[[[ 0.  4.  8.]\n",
            "  [12. 16. 20.]]\n",
            "\n",
            " [[24. 28. 32.]\n",
            "  [36. 40. 44.]]], shape=(2, 2, 3), dtype=float32)\n"
          ]
        }
      ]
    },
    {
      "cell_type": "markdown",
      "metadata": {
        "id": "2xTpIwswo6nh"
      },
      "source": [
        ">the scalar multiplier 4 is—conceptually, at least—expanded into an array that can be multiplied element-wise with t2."
      ]
    },
    {
      "cell_type": "markdown",
      "metadata": {
        "id": "iVhv795co6nk"
      },
      "source": [
        "### Transpose Matrix multiplication"
      ]
    },
    {
      "cell_type": "code",
      "metadata": {
        "id": "f6guVJ3uo6nl",
        "outputId": "2faaaa18-83c8-4285-dd21-387cd832f7ee",
        "colab": {
          "base_uri": "https://localhost:8080/"
        }
      },
      "source": [
        "matrix_u = tf.constant([[3,4,3]])\n",
        "matrix_v = tf.constant([[1,2,1]])\n",
        "\n",
        "tf.matmul(matrix_u, tf.transpose(a=matrix_v))"
      ],
      "execution_count": null,
      "outputs": [
        {
          "output_type": "execute_result",
          "data": {
            "text/plain": [
              "<tf.Tensor: shape=(1, 1), dtype=int32, numpy=array([[14]], dtype=int32)>"
            ]
          },
          "metadata": {},
          "execution_count": 38
        }
      ]
    },
    {
      "cell_type": "code",
      "source": [
        "mat1=tf.constant([[3,2,3]])\n",
        "mart2=tf.constant([[4,3,2]])\n",
        "tf.matmul(mat1,tf.transpose(mart2)).numpy()"
      ],
      "metadata": {
        "id": "suGSVy5uiW_6",
        "outputId": "20b4d10d-5b7b-4cf4-e9e8-f2d49034a622",
        "colab": {
          "base_uri": "https://localhost:8080/"
        }
      },
      "execution_count": null,
      "outputs": [
        {
          "output_type": "execute_result",
          "data": {
            "text/plain": [
              "array([[24]], dtype=int32)"
            ]
          },
          "metadata": {},
          "execution_count": 41
        }
      ]
    },
    {
      "cell_type": "markdown",
      "metadata": {
        "id": "vY3v8Wu0o6np"
      },
      "source": [
        "### Casting a tensor to another (tensor) datatype"
      ]
    },
    {
      "cell_type": "code",
      "metadata": {
        "id": "RDGETTrwo6nq",
        "outputId": "ebc124bc-e231-4456-ce54-dc8b5db7e54b",
        "colab": {
          "base_uri": "https://localhost:8080/"
        }
      },
      "source": [
        "i = tf.cast(tensor1, dtype=tf.int32)\n",
        "i"
      ],
      "execution_count": null,
      "outputs": [
        {
          "output_type": "execute_result",
          "data": {
            "text/plain": [
              "<tf.Tensor: shape=(2, 6), dtype=int32, numpy=\n",
              "array([[ 0,  1,  2,  3,  4,  5],\n",
              "       [ 6,  7,  8,  9, 10, 11]], dtype=int32)>"
            ]
          },
          "metadata": {},
          "execution_count": 39
        }
      ]
    },
    {
      "cell_type": "markdown",
      "metadata": {
        "id": "xNhy-0Kgo6nu"
      },
      "source": [
        "### With truncation"
      ]
    },
    {
      "cell_type": "code",
      "metadata": {
        "id": "PS_ityxqo6nw",
        "outputId": "2cc95e13-1dfc-4870-9fcc-1d02bd1a66c0",
        "colab": {
          "base_uri": "https://localhost:8080/"
        }
      },
      "source": [
        "j = tf.cast(tf.constant(4.9), dtype=tf.int32)\n",
        "j"
      ],
      "execution_count": null,
      "outputs": [
        {
          "output_type": "execute_result",
          "data": {
            "text/plain": [
              "<tf.Tensor: shape=(), dtype=int32, numpy=4>"
            ]
          },
          "metadata": {},
          "execution_count": 40
        }
      ]
    },
    {
      "cell_type": "markdown",
      "metadata": {
        "id": "s6PEqNR6o6n1"
      },
      "source": [
        "### Declaring Ragged tensors"
      ]
    },
    {
      "cell_type": "markdown",
      "metadata": {
        "id": "9npf2CBio6n2"
      },
      "source": [
        "`A ragged tensor is a tensor with one or more ragged dimensions. Ragged dimensions are dimensions that have slices that may have different lengths.There are a variety of methods for declaring ragged arrays, the simplest being a constant ragged\n",
        "array.`"
      ]
    },
    {
      "cell_type": "markdown",
      "metadata": {
        "id": "IR2LsUFuo6n3"
      },
      "source": [
        "#### The following example shows how to declare a constant ragged array and the lengths of the individual slices:"
      ]
    },
    {
      "cell_type": "code",
      "source": [
        "normal_tensor =tf.constant([[5, 2, 6, 1], [], [4, 10, 7], [8], [6,7]])\n"
      ],
      "metadata": {
        "id": "Z2M-JMrfjKUh",
        "outputId": "50f0d51e-b917-42d0-bd5a-cc7b755b624d",
        "colab": {
          "base_uri": "https://localhost:8080/",
          "height": 321
        }
      },
      "execution_count": null,
      "outputs": [
        {
          "output_type": "error",
          "ename": "ValueError",
          "evalue": "ignored",
          "traceback": [
            "\u001b[0;31m---------------------------------------------------------------------------\u001b[0m",
            "\u001b[0;31mValueError\u001b[0m                                Traceback (most recent call last)",
            "\u001b[0;32m<ipython-input-43-6f427eb9fd9f>\u001b[0m in \u001b[0;36m<cell line: 1>\u001b[0;34m()\u001b[0m\n\u001b[0;32m----> 1\u001b[0;31m \u001b[0mnormal_tensor\u001b[0m \u001b[0;34m=\u001b[0m\u001b[0mtf\u001b[0m\u001b[0;34m.\u001b[0m\u001b[0mconstant\u001b[0m\u001b[0;34m(\u001b[0m\u001b[0;34m[\u001b[0m\u001b[0;34m[\u001b[0m\u001b[0;36m5\u001b[0m\u001b[0;34m,\u001b[0m \u001b[0;36m2\u001b[0m\u001b[0;34m,\u001b[0m \u001b[0;36m6\u001b[0m\u001b[0;34m,\u001b[0m \u001b[0;36m1\u001b[0m\u001b[0;34m]\u001b[0m\u001b[0;34m,\u001b[0m \u001b[0;34m[\u001b[0m\u001b[0;34m]\u001b[0m\u001b[0;34m,\u001b[0m \u001b[0;34m[\u001b[0m\u001b[0;36m4\u001b[0m\u001b[0;34m,\u001b[0m \u001b[0;36m10\u001b[0m\u001b[0;34m,\u001b[0m \u001b[0;36m7\u001b[0m\u001b[0;34m]\u001b[0m\u001b[0;34m,\u001b[0m \u001b[0;34m[\u001b[0m\u001b[0;36m8\u001b[0m\u001b[0;34m]\u001b[0m\u001b[0;34m,\u001b[0m \u001b[0;34m[\u001b[0m\u001b[0;36m6\u001b[0m\u001b[0;34m,\u001b[0m\u001b[0;36m7\u001b[0m\u001b[0;34m]\u001b[0m\u001b[0;34m]\u001b[0m\u001b[0;34m)\u001b[0m\u001b[0;34m\u001b[0m\u001b[0;34m\u001b[0m\u001b[0m\n\u001b[0m",
            "\u001b[0;32m/usr/local/lib/python3.10/dist-packages/tensorflow/python/framework/constant_op.py\u001b[0m in \u001b[0;36mconstant\u001b[0;34m(value, dtype, shape, name)\u001b[0m\n\u001b[1;32m    261\u001b[0m     \u001b[0mValueError\u001b[0m\u001b[0;34m:\u001b[0m \u001b[0;32mif\u001b[0m \u001b[0mcalled\u001b[0m \u001b[0mon\u001b[0m \u001b[0ma\u001b[0m \u001b[0msymbolic\u001b[0m \u001b[0mtensor\u001b[0m\u001b[0;34m.\u001b[0m\u001b[0;34m\u001b[0m\u001b[0;34m\u001b[0m\u001b[0m\n\u001b[1;32m    262\u001b[0m   \"\"\"\n\u001b[0;32m--> 263\u001b[0;31m   return _constant_impl(value, dtype, shape, name, verify_shape=False,\n\u001b[0m\u001b[1;32m    264\u001b[0m                         allow_broadcast=True)\n\u001b[1;32m    265\u001b[0m \u001b[0;34m\u001b[0m\u001b[0m\n",
            "\u001b[0;32m/usr/local/lib/python3.10/dist-packages/tensorflow/python/framework/constant_op.py\u001b[0m in \u001b[0;36m_constant_impl\u001b[0;34m(value, dtype, shape, name, verify_shape, allow_broadcast)\u001b[0m\n\u001b[1;32m    273\u001b[0m       \u001b[0;32mwith\u001b[0m \u001b[0mtrace\u001b[0m\u001b[0;34m.\u001b[0m\u001b[0mTrace\u001b[0m\u001b[0;34m(\u001b[0m\u001b[0;34m\"tf.constant\"\u001b[0m\u001b[0;34m)\u001b[0m\u001b[0;34m:\u001b[0m\u001b[0;34m\u001b[0m\u001b[0;34m\u001b[0m\u001b[0m\n\u001b[1;32m    274\u001b[0m         \u001b[0;32mreturn\u001b[0m \u001b[0m_constant_eager_impl\u001b[0m\u001b[0;34m(\u001b[0m\u001b[0mctx\u001b[0m\u001b[0;34m,\u001b[0m \u001b[0mvalue\u001b[0m\u001b[0;34m,\u001b[0m \u001b[0mdtype\u001b[0m\u001b[0;34m,\u001b[0m \u001b[0mshape\u001b[0m\u001b[0;34m,\u001b[0m \u001b[0mverify_shape\u001b[0m\u001b[0;34m)\u001b[0m\u001b[0;34m\u001b[0m\u001b[0;34m\u001b[0m\u001b[0m\n\u001b[0;32m--> 275\u001b[0;31m     \u001b[0;32mreturn\u001b[0m \u001b[0m_constant_eager_impl\u001b[0m\u001b[0;34m(\u001b[0m\u001b[0mctx\u001b[0m\u001b[0;34m,\u001b[0m \u001b[0mvalue\u001b[0m\u001b[0;34m,\u001b[0m \u001b[0mdtype\u001b[0m\u001b[0;34m,\u001b[0m \u001b[0mshape\u001b[0m\u001b[0;34m,\u001b[0m \u001b[0mverify_shape\u001b[0m\u001b[0;34m)\u001b[0m\u001b[0;34m\u001b[0m\u001b[0;34m\u001b[0m\u001b[0m\n\u001b[0m\u001b[1;32m    276\u001b[0m \u001b[0;34m\u001b[0m\u001b[0m\n\u001b[1;32m    277\u001b[0m   const_tensor = ops._create_graph_constant(  # pylint: disable=protected-access\n",
            "\u001b[0;32m/usr/local/lib/python3.10/dist-packages/tensorflow/python/framework/constant_op.py\u001b[0m in \u001b[0;36m_constant_eager_impl\u001b[0;34m(ctx, value, dtype, shape, verify_shape)\u001b[0m\n\u001b[1;32m    283\u001b[0m \u001b[0;32mdef\u001b[0m \u001b[0m_constant_eager_impl\u001b[0m\u001b[0;34m(\u001b[0m\u001b[0mctx\u001b[0m\u001b[0;34m,\u001b[0m \u001b[0mvalue\u001b[0m\u001b[0;34m,\u001b[0m \u001b[0mdtype\u001b[0m\u001b[0;34m,\u001b[0m \u001b[0mshape\u001b[0m\u001b[0;34m,\u001b[0m \u001b[0mverify_shape\u001b[0m\u001b[0;34m)\u001b[0m\u001b[0;34m:\u001b[0m\u001b[0;34m\u001b[0m\u001b[0;34m\u001b[0m\u001b[0m\n\u001b[1;32m    284\u001b[0m   \u001b[0;34m\"\"\"Creates a constant on the current device.\"\"\"\u001b[0m\u001b[0;34m\u001b[0m\u001b[0;34m\u001b[0m\u001b[0m\n\u001b[0;32m--> 285\u001b[0;31m   \u001b[0mt\u001b[0m \u001b[0;34m=\u001b[0m \u001b[0mconvert_to_eager_tensor\u001b[0m\u001b[0;34m(\u001b[0m\u001b[0mvalue\u001b[0m\u001b[0;34m,\u001b[0m \u001b[0mctx\u001b[0m\u001b[0;34m,\u001b[0m \u001b[0mdtype\u001b[0m\u001b[0;34m)\u001b[0m\u001b[0;34m\u001b[0m\u001b[0;34m\u001b[0m\u001b[0m\n\u001b[0m\u001b[1;32m    286\u001b[0m   \u001b[0;32mif\u001b[0m \u001b[0mshape\u001b[0m \u001b[0;32mis\u001b[0m \u001b[0;32mNone\u001b[0m\u001b[0;34m:\u001b[0m\u001b[0;34m\u001b[0m\u001b[0;34m\u001b[0m\u001b[0m\n\u001b[1;32m    287\u001b[0m     \u001b[0;32mreturn\u001b[0m \u001b[0mt\u001b[0m\u001b[0;34m\u001b[0m\u001b[0;34m\u001b[0m\u001b[0m\n",
            "\u001b[0;32m/usr/local/lib/python3.10/dist-packages/tensorflow/python/framework/constant_op.py\u001b[0m in \u001b[0;36mconvert_to_eager_tensor\u001b[0;34m(value, ctx, dtype)\u001b[0m\n\u001b[1;32m     96\u001b[0m       \u001b[0mdtype\u001b[0m \u001b[0;34m=\u001b[0m \u001b[0mdtypes\u001b[0m\u001b[0;34m.\u001b[0m\u001b[0mas_dtype\u001b[0m\u001b[0;34m(\u001b[0m\u001b[0mdtype\u001b[0m\u001b[0;34m)\u001b[0m\u001b[0;34m.\u001b[0m\u001b[0mas_datatype_enum\u001b[0m\u001b[0;34m\u001b[0m\u001b[0;34m\u001b[0m\u001b[0m\n\u001b[1;32m     97\u001b[0m   \u001b[0mctx\u001b[0m\u001b[0;34m.\u001b[0m\u001b[0mensure_initialized\u001b[0m\u001b[0;34m(\u001b[0m\u001b[0;34m)\u001b[0m\u001b[0;34m\u001b[0m\u001b[0;34m\u001b[0m\u001b[0m\n\u001b[0;32m---> 98\u001b[0;31m   \u001b[0;32mreturn\u001b[0m \u001b[0mops\u001b[0m\u001b[0;34m.\u001b[0m\u001b[0mEagerTensor\u001b[0m\u001b[0;34m(\u001b[0m\u001b[0mvalue\u001b[0m\u001b[0;34m,\u001b[0m \u001b[0mctx\u001b[0m\u001b[0;34m.\u001b[0m\u001b[0mdevice_name\u001b[0m\u001b[0;34m,\u001b[0m \u001b[0mdtype\u001b[0m\u001b[0;34m)\u001b[0m\u001b[0;34m\u001b[0m\u001b[0;34m\u001b[0m\u001b[0m\n\u001b[0m\u001b[1;32m     99\u001b[0m \u001b[0;34m\u001b[0m\u001b[0m\n\u001b[1;32m    100\u001b[0m \u001b[0;34m\u001b[0m\u001b[0m\n",
            "\u001b[0;31mValueError\u001b[0m: Can't convert non-rectangular Python sequence to Tensor."
          ]
        }
      ]
    },
    {
      "cell_type": "markdown",
      "source": [
        "so handing this isssue we will use  ragged tensors"
      ],
      "metadata": {
        "id": "5S19usT5jTFI"
      }
    },
    {
      "cell_type": "code",
      "metadata": {
        "id": "SOwI9mPTo6n4",
        "outputId": "739628c9-088e-4c2c-961c-f4d16f6830c3",
        "colab": {
          "base_uri": "https://localhost:8080/"
        }
      },
      "source": [
        "ragged =tf.ragged.constant([[5, 2, 6, 1], [], [4, 10, 7], [8], [6,7]])\n",
        "\n",
        "print(ragged)\n",
        "print(ragged[0,:])\n",
        "print(ragged[1,:])\n",
        "print(ragged[2,:])\n",
        "print(ragged[3,:])\n",
        "print(ragged[4,:])"
      ],
      "execution_count": null,
      "outputs": [
        {
          "output_type": "stream",
          "name": "stdout",
          "text": [
            "<tf.RaggedTensor [[5, 2, 6, 1], [], [4, 10, 7], [8], [6, 7]]>\n",
            "tf.Tensor([5 2 6 1], shape=(4,), dtype=int32)\n",
            "tf.Tensor([], shape=(0,), dtype=int32)\n",
            "tf.Tensor([ 4 10  7], shape=(3,), dtype=int32)\n",
            "tf.Tensor([8], shape=(1,), dtype=int32)\n",
            "tf.Tensor([6 7], shape=(2,), dtype=int32)\n"
          ]
        }
      ]
    },
    {
      "cell_type": "markdown",
      "metadata": {
        "id": "pnY8DvByo6n9"
      },
      "source": [
        "### Finding the squared difference between two tensors"
      ]
    },
    {
      "cell_type": "code",
      "metadata": {
        "id": "sIBgnVBAo6n9",
        "outputId": "68df0c5f-1c98-40b5-88a4-7cd5251af078",
        "colab": {
          "base_uri": "https://localhost:8080/"
        }
      },
      "source": [
        "varx = [1,3,5,7,11]\n",
        "vary = 5\n",
        "varz = tf.math.squared_difference(varx,vary)\n",
        "varz"
      ],
      "execution_count": null,
      "outputs": [
        {
          "output_type": "execute_result",
          "data": {
            "text/plain": [
              "<tf.Tensor: shape=(5,), dtype=int32, numpy=array([16,  4,  0,  4, 36], dtype=int32)>"
            ]
          },
          "metadata": {},
          "execution_count": 42
        }
      ]
    },
    {
      "cell_type": "markdown",
      "metadata": {
        "id": "XplbzEblo6oB"
      },
      "source": [
        ">The Python variables, varx and vary, are cast into tensors and that vary is then broadcast across varx in this example. So, for example, the first calculation is (1-5)2 = 16."
      ]
    },
    {
      "cell_type": "markdown",
      "metadata": {
        "id": "ojG-K3_oo6oB"
      },
      "source": [
        "#### Finding the mean"
      ]
    },
    {
      "cell_type": "markdown",
      "metadata": {
        "id": "SlSjxOJ1o6oC"
      },
      "source": [
        ">The following is the signature of\n",
        ">tf.reduce_mean()."
      ]
    },
    {
      "cell_type": "markdown",
      "metadata": {
        "id": "z8uPKfCto6oD"
      },
      "source": [
        "`Note that this is equivalent to np.mean, except that it infers the return datatype from the input tensor,\n",
        "whereas np.mean allows you to specify the output type (defaulting to float64):`\n",
        "\n",
        "`tf.reduce_mean(input_tensor, axis=None, keepdims=None, name=None)`\n"
      ]
    },
    {
      "cell_type": "code",
      "metadata": {
        "id": "BbLBspkio6oD"
      },
      "source": [
        "#Defining a constant\n",
        "numbers = tf.constant([[4., 5.], [7., 3.]])"
      ],
      "execution_count": null,
      "outputs": []
    },
    {
      "cell_type": "markdown",
      "metadata": {
        "id": "x8sshtQ3o6oL"
      },
      "source": [
        "#### Find the mean across all axes (use the default axis = None)"
      ]
    },
    {
      "cell_type": "code",
      "metadata": {
        "id": "dyRdtvxuo6oM",
        "outputId": "adbd7edc-c42a-4f11-96f0-2f072941963e",
        "colab": {
          "base_uri": "https://localhost:8080/"
        }
      },
      "source": [
        "tf.reduce_mean(numbers)"
      ],
      "execution_count": null,
      "outputs": [
        {
          "output_type": "execute_result",
          "data": {
            "text/plain": [
              "<tf.Tensor: shape=(), dtype=float32, numpy=4.75>"
            ]
          },
          "metadata": {},
          "execution_count": 46
        }
      ]
    },
    {
      "cell_type": "markdown",
      "metadata": {
        "id": "aUENvk9Do6oO"
      },
      "source": [
        "#### Find the mean across columns (that is, reduce rows) with this:"
      ]
    },
    {
      "cell_type": "code",
      "metadata": {
        "id": "aRCaaG9Bo6oR",
        "colab": {
          "base_uri": "https://localhost:8080/"
        },
        "outputId": "03a34765-dacd-4cec-eb04-3bf03e4855ec"
      },
      "source": [
        "tf.reduce_mean(input_tensor=numbers, axis=0) # [ (4. + 7. )/2 , (5. + 3.)/2 ] = [5.5, 4.] axis=0 means add rows elements"
      ],
      "execution_count": null,
      "outputs": [
        {
          "output_type": "execute_result",
          "data": {
            "text/plain": [
              "<tf.Tensor: shape=(2,), dtype=float32, numpy=array([5.5, 4. ], dtype=float32)>"
            ]
          },
          "metadata": {},
          "execution_count": 47
        }
      ]
    },
    {
      "cell_type": "markdown",
      "metadata": {
        "id": "cWHtX3KZo6oa"
      },
      "source": [
        "#### When keepdims is True, the reduced axis is retained with a length of 1:"
      ]
    },
    {
      "cell_type": "code",
      "metadata": {
        "id": "OHCCfX2Qo6oa",
        "outputId": "0cc26195-e2c6-47cb-caf9-7e2148fb4a9d",
        "colab": {
          "base_uri": "https://localhost:8080/"
        }
      },
      "source": [
        "tf.reduce_mean(input_tensor=numbers, axis=0, keepdims=True)"
      ],
      "execution_count": null,
      "outputs": [
        {
          "output_type": "execute_result",
          "data": {
            "text/plain": [
              "<tf.Tensor: shape=(1, 2), dtype=float32, numpy=array([[5.5, 4. ]], dtype=float32)>"
            ]
          },
          "metadata": {},
          "execution_count": 46
        }
      ]
    },
    {
      "cell_type": "code",
      "source": [],
      "metadata": {
        "id": "M9DAB5g4kGaZ",
        "outputId": "76587fa4-5a22-4b47-9690-3c7ff79002ab",
        "colab": {
          "base_uri": "https://localhost:8080/"
        }
      },
      "execution_count": null,
      "outputs": [
        {
          "output_type": "execute_result",
          "data": {
            "text/plain": [
              "<tf.Tensor: shape=(2,), dtype=float32, numpy=array([4.5, 5. ], dtype=float32)>"
            ]
          },
          "metadata": {},
          "execution_count": 48
        }
      ]
    },
    {
      "cell_type": "markdown",
      "metadata": {
        "id": "-JoTUanGo6oe"
      },
      "source": [
        "#### Find the mean across rows (that is, reduce columns) with this:"
      ]
    },
    {
      "cell_type": "code",
      "metadata": {
        "id": "AD9TgF8Xo6oh",
        "colab": {
          "base_uri": "https://localhost:8080/"
        },
        "outputId": "e2f9ed06-ecb6-4f65-9316-050ceb566391"
      },
      "source": [
        "tf.reduce_mean(input_tensor=numbers, axis=1) # [ (4. + 5. )/2 , (7. + 3. )/2] = [4.5, 5]"
      ],
      "execution_count": null,
      "outputs": [
        {
          "output_type": "execute_result",
          "data": {
            "text/plain": [
              "<tf.Tensor: shape=(2,), dtype=float32, numpy=array([4.5, 5. ], dtype=float32)>"
            ]
          },
          "metadata": {},
          "execution_count": 47
        }
      ]
    },
    {
      "cell_type": "markdown",
      "metadata": {
        "id": "mFFOV_tko6on"
      },
      "source": [
        "#### When keepdims is True, the reduced axis is retained with a length of 1:"
      ]
    },
    {
      "cell_type": "code",
      "metadata": {
        "id": "TT1AhsW0o6on",
        "outputId": "920fe8ec-91cc-4dce-9f36-2ff327c076d0",
        "colab": {
          "base_uri": "https://localhost:8080/"
        }
      },
      "source": [
        "tf.reduce_mean(input_tensor=numbers, axis=1, keepdims=True)"
      ],
      "execution_count": null,
      "outputs": [
        {
          "output_type": "execute_result",
          "data": {
            "text/plain": [
              "<tf.Tensor: shape=(2, 1), dtype=float32, numpy=\n",
              "array([[4.5],\n",
              "       [5. ]], dtype=float32)>"
            ]
          },
          "metadata": {},
          "execution_count": 48
        }
      ]
    },
    {
      "cell_type": "markdown",
      "metadata": {
        "id": "YGRSaheao6or"
      },
      "source": [
        "#### Generating tensors filled with random values"
      ]
    },
    {
      "cell_type": "markdown",
      "metadata": {
        "id": "_eUqmT-io6os"
      },
      "source": [
        "##### Using tf.random.normal()\n",
        "\n",
        ">tf.random.normal() outputs a tensor of the given shape filled with values of the dtype type from a normal distribution.\n",
        "\n",
        ">The required signature is as follows:\n",
        "    \n",
        ">tf. random.normal(shape, mean = 0, stddev =2, dtype=tf.float32, seed=None, name=None)"
      ]
    },
    {
      "cell_type": "code",
      "metadata": {
        "id": "a3kRyZ0Oo6os",
        "colab": {
          "base_uri": "https://localhost:8080/"
        },
        "outputId": "e2cbbc54-f260-4e49-b5ac-1646c7e6d88e"
      },
      "source": [
        "tf.random.normal(shape = (3,2), mean=10, stddev=2, dtype=tf.float32, seed=None, name=None)\n",
        "ran = tf.random.normal(shape = (3,2), mean=10.0, stddev=2.0)\n",
        "print(ran)"
      ],
      "execution_count": null,
      "outputs": [
        {
          "output_type": "stream",
          "name": "stdout",
          "text": [
            "tf.Tensor(\n",
            "[[ 8.984696 11.659664]\n",
            " [ 6.718294  9.523499]\n",
            " [10.174062  9.521123]], shape=(3, 2), dtype=float32)\n"
          ]
        }
      ]
    },
    {
      "cell_type": "markdown",
      "metadata": {
        "id": "dh2_NKsno6ou"
      },
      "source": [
        "#### Using tf.random.uniform()"
      ]
    },
    {
      "cell_type": "markdown",
      "metadata": {
        "id": "Oqky5GJAo6ou"
      },
      "source": [
        ">The required signature is this:\n",
        "    \n",
        ">tf.random.uniform(shape, minval = 0, maxval= None, dtype=tf.float32, seed=None, name=None)"
      ]
    },
    {
      "cell_type": "markdown",
      "metadata": {
        "id": "YFEzbvVgo6ov"
      },
      "source": [
        "`This outputs a tensor of the given shape filled with values from a uniform distribution in the range\n",
        "minval to maxval, where the lower bound is inclusive but the upper bound isn't.\n",
        "Take this, for example:`"
      ]
    },
    {
      "cell_type": "code",
      "metadata": {
        "id": "5-efPKueo6ox",
        "outputId": "16ae8467-2d2f-4346-9ed5-7507886e91e7",
        "colab": {
          "base_uri": "https://localhost:8080/"
        }
      },
      "source": [
        "tf.random.uniform(shape = (2,4), minval=0, maxval=None, dtype=tf.float32, seed=None, name=None)"
      ],
      "execution_count": null,
      "outputs": [
        {
          "output_type": "execute_result",
          "data": {
            "text/plain": [
              "<tf.Tensor: shape=(2, 4), dtype=float32, numpy=\n",
              "array([[0.69793105, 0.12818623, 0.36479974, 0.6948261 ],\n",
              "       [0.99294233, 0.607391  , 0.13492548, 0.45762825]], dtype=float32)>"
            ]
          },
          "metadata": {},
          "execution_count": 50
        }
      ]
    },
    {
      "cell_type": "markdown",
      "metadata": {
        "id": "JZI56FtIo6o3"
      },
      "source": [
        "#### Setting the seed"
      ]
    },
    {
      "cell_type": "code",
      "metadata": {
        "id": "pMSRdOoxo6o4",
        "outputId": "ffc8a2a6-9c04-4a30-8105-7926b62ba350",
        "colab": {
          "base_uri": "https://localhost:8080/"
        }
      },
      "source": [
        "tf.random.set_seed(11)\n",
        "ran1 = tf.random.uniform(shape = (2,2), maxval=10, dtype = tf.int32)\n",
        "ran2 = tf.random.uniform(shape = (2,2), maxval=10, dtype = tf.int32)\n",
        "print(ran1) #Call 1\n",
        "print(ran2)"
      ],
      "execution_count": null,
      "outputs": [
        {
          "output_type": "stream",
          "name": "stdout",
          "text": [
            "tf.Tensor(\n",
            "[[4 6]\n",
            " [5 2]], shape=(2, 2), dtype=int32)\n",
            "tf.Tensor(\n",
            "[[9 7]\n",
            " [9 4]], shape=(2, 2), dtype=int32)\n"
          ]
        }
      ]
    },
    {
      "cell_type": "code",
      "metadata": {
        "id": "0kRLOtcbo6o9",
        "outputId": "57ba4365-ac78-44bd-9bfc-148445f639cf",
        "colab": {
          "base_uri": "https://localhost:8080/"
        }
      },
      "source": [
        "tf.random.set_seed(11) #same seed\n",
        "ran1 = tf.random.uniform(shape = (2,2), maxval=10, dtype = tf.int32)\n",
        "ran2 = tf.random.uniform(shape = (2,2), maxval=10, dtype = tf.int32)\n",
        "print(ran1) #Call 2\n",
        "print(ran2)"
      ],
      "execution_count": null,
      "outputs": [
        {
          "output_type": "stream",
          "name": "stdout",
          "text": [
            "tf.Tensor(\n",
            "[[4 6]\n",
            " [5 2]], shape=(2, 2), dtype=int32)\n",
            "tf.Tensor(\n",
            "[[9 7]\n",
            " [9 4]], shape=(2, 2), dtype=int32)\n"
          ]
        }
      ]
    },
    {
      "cell_type": "markdown",
      "metadata": {
        "id": "8XH1O5Nio6pC"
      },
      "source": [
        "#### Practical example of Random values using Dices"
      ]
    },
    {
      "cell_type": "code",
      "metadata": {
        "id": "jJTd5UR9o6pC",
        "outputId": "5115aa79-a023-4c5a-8e55-a6d64d59221e",
        "colab": {
          "base_uri": "https://localhost:8080/"
        }
      },
      "source": [
        "dice1 = tf.Variable(tf.random.uniform([10, 1], minval=1, maxval=7, dtype=tf.int32))\n",
        "dice2 = tf.Variable(tf.random.uniform([10, 1], minval=1, maxval=7, dtype=tf.int32))\n",
        "# We may add dice1 and dice2 since they share the same shape and size.\n",
        "dice_sum = dice1 + dice2\n",
        "# We've got three separate 10x1 matrices. To produce a single\n",
        "# 10x3 matrix, we'll concatenate them along dimension 1.\n",
        "resulting_matrix = tf.concat(values=[dice1, dice2, dice_sum], axis=1)\n",
        "print(resulting_matrix)"
      ],
      "execution_count": null,
      "outputs": [
        {
          "output_type": "stream",
          "name": "stdout",
          "text": [
            "tf.Tensor(\n",
            "[[ 5  5 10]\n",
            " [ 4  3  7]\n",
            " [ 5  3  8]\n",
            " [ 3  3  6]\n",
            " [ 1  4  5]\n",
            " [ 4  1  5]\n",
            " [ 5  1  6]\n",
            " [ 6  4 10]\n",
            " [ 3  3  6]\n",
            " [ 2  3  5]], shape=(10, 3), dtype=int32)\n"
          ]
        }
      ]
    },
    {
      "cell_type": "markdown",
      "metadata": {
        "id": "Kmx58nfAo6pF"
      },
      "source": [
        "#### Finding the indices of the largest and smallest element"
      ]
    },
    {
      "cell_type": "markdown",
      "metadata": {
        "id": "6Nqxfm9Do6pF"
      },
      "source": [
        ">The signatures of the functions are as follows:\n",
        "    \n",
        ">`tf.argmax(input, axis=None, name=None, output_type=tf.int64 )`\n",
        "\n",
        ">`tf.argmin(input, axis=None, name=None, output_type=tf.int64 )`"
      ]
    },
    {
      "cell_type": "code",
      "source": [
        "tu = tf.constant([2, 11, 5, 42, 7, 19, -6, -11, 29])\n",
        "\n",
        "max_element_index=tf.argmax(tu)\n",
        "min_element_index=tf.argmin(tu)\n",
        "i,j,k,l=max_element_index,tu[max_element_index],min_element_index,tu[min_element_index]\n",
        "i.numpy(),j.numpy(),k.numpy(),l.numpy()\n"
      ],
      "metadata": {
        "id": "EACoX3_vk3H7",
        "outputId": "db062696-19a4-417f-8f04-5409121ecc57",
        "colab": {
          "base_uri": "https://localhost:8080/"
        }
      },
      "execution_count": null,
      "outputs": [
        {
          "output_type": "execute_result",
          "data": {
            "text/plain": [
              "(3, 42, 7, -11)"
            ]
          },
          "metadata": {},
          "execution_count": 55
        }
      ]
    },
    {
      "cell_type": "code",
      "metadata": {
        "id": "jobaZbi9o6pF",
        "outputId": "8ac4295f-2241-4006-cbde-5b79fe169077",
        "colab": {
          "base_uri": "https://localhost:8080/"
        }
      },
      "source": [
        "# 1-D tensor\n",
        "t5 = tf.constant([2, 11, 5, 42, 7, 19, -6, -11, 29])\n",
        "print(t5)\n",
        "\n",
        "\n",
        "i = tf.argmax(input=t5)\n",
        "print('index of max; ', i)\n",
        "print('Max element: ',t5[i].numpy())\n",
        "\n",
        "\n",
        "i = tf.argmin(input=t5,axis=0).numpy()\n",
        "print('index of min: ', i)\n",
        "print('Min element: ',t5[i].numpy())\n",
        "\n",
        "\n",
        "t6 = tf.reshape(t5, [3,3])\n",
        "print(t6)\n",
        "\n",
        "\n",
        "i = tf.argmax(input=t6,axis=0).numpy() # max arg down rows\n",
        "print('indices of max down rows; ', i)\n",
        "\n",
        "i = tf.argmin(input=t6,axis=0).numpy() # min arg down rows\n",
        "print('indices of min down rows ; ',i)\n",
        "print(t6)\n",
        "\n",
        "i = tf.argmax(input=t6,axis=1).numpy() # max arg across cols\n",
        "print('indices of max across cols: ',i)\n",
        "\n",
        "i = tf.argmin(input=t6,axis=1).numpy() # min arg across cols\n",
        "print('indices of min across cols: ',i)\n"
      ],
      "execution_count": null,
      "outputs": [
        {
          "output_type": "stream",
          "name": "stdout",
          "text": [
            "tf.Tensor([  2  11   5  42   7  19  -6 -11  29], shape=(9,), dtype=int32)\n",
            "index of max;  tf.Tensor(3, shape=(), dtype=int64)\n",
            "Max element:  42\n",
            "index of min:  7\n",
            "Min element:  -11\n",
            "tf.Tensor(\n",
            "[[  2  11   5]\n",
            " [ 42   7  19]\n",
            " [ -6 -11  29]], shape=(3, 3), dtype=int32)\n",
            "indices of max down rows;  [1 0 2]\n",
            "indices of min down rows ;  [2 2 0]\n",
            "tf.Tensor(\n",
            "[[  2  11   5]\n",
            " [ 42   7  19]\n",
            " [ -6 -11  29]], shape=(3, 3), dtype=int32)\n",
            "indices of max across cols:  [1 0 2]\n",
            "indices of min across cols:  [0 1 1]\n"
          ]
        }
      ]
    },
    {
      "cell_type": "markdown",
      "metadata": {
        "id": "RIkb89WJo6pH"
      },
      "source": [
        "#### Saving and restoring tensor values using a checkpoint"
      ]
    },
    {
      "cell_type": "code",
      "metadata": {
        "id": "HkF2G1dUo6pI",
        "outputId": "bf72b99d-b05c-462e-e8ce-37ab707da373",
        "colab": {
          "base_uri": "https://localhost:8080/"
        }
      },
      "source": [
        "variable = tf.Variable([[1,3,5,7],[11,13,17,19]])\n",
        "checkpoint= tf.train.Checkpoint(var=variable)\n",
        "save_path = checkpoint.save('./vars')\n",
        "variable.assign([[0,0,0,0],[0,0,0,0]])\n",
        "variable\n",
        "checkpoint.restore(save_path)\n",
        "print(variable)"
      ],
      "execution_count": null,
      "outputs": [
        {
          "output_type": "stream",
          "name": "stdout",
          "text": [
            "<tf.Variable 'Variable:0' shape=(2, 4) dtype=int32, numpy=\n",
            "array([[ 1,  3,  5,  7],\n",
            "       [11, 13, 17, 19]], dtype=int32)>\n"
          ]
        }
      ]
    },
    {
      "cell_type": "markdown",
      "metadata": {
        "id": "qN-i_ER2o6pK"
      },
      "source": [
        "#### Using tf.function\n",
        "\n",
        "`tf.function is a function that will take a Python function and return a TensorFlow graph. The\n",
        "advantage of this is that graphs can apply optimizations and exploit parallelism in the Python\n",
        "function (func). tf.function is new to TensorFlow 2.`\n"
      ]
    },
    {
      "cell_type": "markdown",
      "metadata": {
        "id": "Y7fwBN9ho6pK"
      },
      "source": [
        ">Its signature is as follows:\n",
        "    \n",
        "`tf.function(\n",
        "func=None,\n",
        "input_signature=None,\n",
        "autograph=True,\n",
        "experimental_autograph_options=None\n",
        ")`\n"
      ]
    },
    {
      "cell_type": "code",
      "metadata": {
        "id": "SojZSv7Do6pK"
      },
      "source": [
        "def f1(x, y):\n",
        "    return tf.reduce_mean(input_tensor=tf.multiply(x ** 2, 5) + y**2)\n",
        "\n",
        "f2 = tf.function(f1)\n",
        "x = tf.constant([4., -5.])\n",
        "y = tf.constant([2., 3.])\n",
        "\n",
        "# f1 and f2 return the same value, but f2 executes as a TensorFlow graph\n",
        "assert f1(x,y).numpy() == f2(x,y).numpy()\n",
        "#The assert passes, so there is no output"
      ],
      "execution_count": null,
      "outputs": []
    },
    {
      "cell_type": "markdown",
      "metadata": {
        "id": "TPNouaRMo6pM"
      },
      "source": [
        "## Calculate the gradient"
      ]
    },
    {
      "cell_type": "markdown",
      "metadata": {
        "id": "IEDgKRoro6pM"
      },
      "source": [
        "### GradientTape"
      ]
    },
    {
      "cell_type": "markdown",
      "metadata": {
        "id": "7CyL_IKto6pM"
      },
      "source": [
        ">Another difference from numpy is that it can automatically track the gradient of any variable.\n",
        "\n",
        ">Open one GradientTape and `tape.watch()` track variables through"
      ]
    },
    {
      "cell_type": "code",
      "metadata": {
        "id": "zNLkHGwwo6pN",
        "outputId": "c04fc844-60a4-4aed-8418-bbb169114a97",
        "colab": {
          "base_uri": "https://localhost:8080/"
        }
      },
      "source": [
        "a = tf.random.normal(shape=(2,2))\n",
        "b = tf.random.normal(shape=(2,2))\n",
        "\n",
        "with tf.GradientTape() as tape:\n",
        "    tape.watch(a)\n",
        "    c = tf.sqrt(tf.square(a)+tf.square(b))\n",
        "    dc_da = tape.gradient(c,a)\n",
        "    print(dc_da)"
      ],
      "execution_count": null,
      "outputs": [
        {
          "output_type": "stream",
          "name": "stdout",
          "text": [
            "tf.Tensor(\n",
            "[[-0.469929    0.89920384]\n",
            " [-0.66446555 -0.7976701 ]], shape=(2, 2), dtype=float32)\n"
          ]
        }
      ]
    },
    {
      "cell_type": "markdown",
      "metadata": {
        "id": "uuK0cC3xo6pQ"
      },
      "source": [
        ">For all variables, the calculation is tracked by default and used to find the gradient, so do not `usetape.watch()`"
      ]
    },
    {
      "cell_type": "code",
      "metadata": {
        "id": "SqZj7hRYo6pQ",
        "outputId": "2b6f6149-1726-4ee0-c5d5-efbbfb2efcb5",
        "colab": {
          "base_uri": "https://localhost:8080/"
        }
      },
      "source": [
        "a = tf.Variable(a)\n",
        "with tf.GradientTape() as tape:\n",
        "    c = tf.sqrt(tf.square(a)+tf.square(b))\n",
        "    dc_da = tape.gradient(c,a)\n",
        "    print(dc_da)"
      ],
      "execution_count": null,
      "outputs": [
        {
          "output_type": "stream",
          "name": "stdout",
          "text": [
            "tf.Tensor(\n",
            "[[-0.469929    0.89920384]\n",
            " [-0.66446555 -0.7976701 ]], shape=(2, 2), dtype=float32)\n"
          ]
        }
      ]
    },
    {
      "cell_type": "markdown",
      "metadata": {
        "id": "hTEjg7pro6pS"
      },
      "source": [
        "> You can GradientTapefind higher-order derivatives by opening a few more:"
      ]
    },
    {
      "cell_type": "code",
      "metadata": {
        "id": "k1Ow5DUTo6pS",
        "outputId": "09b1ace0-4b52-47b2-8438-6c996f96f569",
        "colab": {
          "base_uri": "https://localhost:8080/"
        }
      },
      "source": [
        "with tf.GradientTape() as outer_tape:\n",
        "    with tf.GradientTape() as tape:\n",
        "        c = tf.sqrt(tf.square(a)+tf.square(b))\n",
        "        dc_da = tape.gradient(c,a)\n",
        "    d2c_d2a = outer_tape.gradient(dc_da,a)\n",
        "    print(d2c_d2a)"
      ],
      "execution_count": null,
      "outputs": [
        {
          "output_type": "stream",
          "name": "stdout",
          "text": [
            "tf.Tensor(\n",
            "[[0.4264985  0.6867533 ]\n",
            " [0.44663432 0.50159544]], shape=(2, 2), dtype=float32)\n"
          ]
        }
      ]
    },
    {
      "cell_type": "markdown",
      "metadata": {
        "id": "LXJQrxflo6pf"
      },
      "source": [
        "# Keras - A High-Level API for TensorFlow 2"
      ]
    },
    {
      "cell_type": "markdown",
      "metadata": {
        "id": "a52UFSd0o6pg"
      },
      "source": [
        "<img src=\"https://3.bp.blogspot.com/-QZVBl08fmPk/XhO909Ha1dI/AAAAAAAACZI/q1a1UykGKe0KDUZ_ZITtWmM7bBJFRrvPQCLcBGAsYHQ/s1600/tensorflowkeras.jpg\" width=\"600\"\n",
        "     height=\"300\">\n",
        "\n",
        "\n",
        "\n"
      ]
    },
    {
      "cell_type": "markdown",
      "metadata": {
        "id": "fRv1FQrPo6ph"
      },
      "source": [
        "## The Keras Sequential model\n",
        "\n",
        "`To build a Keras Sequential model, you add layers to it in the same order that you want the\n",
        "computations to be undertaken by the network.`\n",
        "\n",
        "`After you have built your model, you compile it; this optimizes the computations that are to be\n",
        "undertaken, and is where you allocate the optimizer and the loss function you want your model to\n",
        "use.`\n",
        "\n",
        "`The next stage is to fit the model to the data. This is commonly known as training the model, and is\n",
        "where all the computations take place. It is possible to present the data to the model either in\n",
        "batches, or all at once.`\n",
        "\n",
        "`Next, you evaluate your model to establish its accuracy, loss, and other metrics. Finally, having\n",
        "trained your model, you can use it to make predictions on new data. So, the workflow is: build,\n",
        "compile, fit, evaluate, make predictions.`\n",
        "`There are two ways to create a Sequential model. Let's take a look at each of them.`"
      ]
    },
    {
      "cell_type": "markdown",
      "metadata": {
        "id": "u5VB1Lito6pi"
      },
      "source": [
        "### The first way to create a Sequential model\n",
        "\n",
        "`Firstly, you can pass a list of layer instances to the constructor, as in the following example.\n",
        "For now, we will just explain enough to allow you to understand what is happening here.`\n",
        "\n",
        "`Acquire the data. MNIST is a dataset of hand-drawn numerals, each on a 28 x 28 pixel grid. Every\n",
        "individual data point is an unsigned 8-bit integer (uint8), as are the labels:`"
      ]
    },
    {
      "cell_type": "markdown",
      "metadata": {
        "id": "2Cwlvscjo6pj"
      },
      "source": [
        "#### Loading the datset"
      ]
    },
    {
      "cell_type": "code",
      "metadata": {
        "id": "7pQYV83Oo6pj",
        "colab": {
          "base_uri": "https://localhost:8080/"
        },
        "outputId": "5bef0991-936e-4793-fc30-a8d5b80c367a"
      },
      "source": [
        "mnist = tf.keras.datasets.mnist\n",
        "(train_x,train_y), (test_x, test_y) = mnist.load_data()"
      ],
      "execution_count": null,
      "outputs": [
        {
          "output_type": "stream",
          "name": "stdout",
          "text": [
            "Downloading data from https://storage.googleapis.com/tensorflow/tf-keras-datasets/mnist.npz\n",
            "11490434/11490434 [==============================] - 1s 0us/step\n"
          ]
        }
      ]
    },
    {
      "cell_type": "markdown",
      "metadata": {
        "id": "xibvawx4o6pl"
      },
      "source": [
        "#### Definning the variables"
      ]
    },
    {
      "cell_type": "code",
      "metadata": {
        "id": "v8gqtu0ao6pm"
      },
      "source": [
        "epochs=10\n",
        "batch_size = 32 # 32 is default in fit method but specify anyway"
      ],
      "execution_count": null,
      "outputs": []
    },
    {
      "cell_type": "markdown",
      "metadata": {
        "id": "x-Q7uhkno6pq"
      },
      "source": [
        ">Next, normalize all the data points (x) to be in the float range zero to one, and of the float32 type.\n",
        "\n",
        ">Also, cast the labels (y) to int64, as required:"
      ]
    },
    {
      "cell_type": "code",
      "metadata": {
        "id": "bqPK-As1o6pr"
      },
      "source": [
        "train_x, test_x = tf.cast(train_x/255.0, tf.float32), tf.cast(test_x/255.0, tf.float32)\n",
        "train_y, test_y = tf.cast(train_y,tf.int64),tf.cast(test_y,tf.int64)"
      ],
      "execution_count": null,
      "outputs": []
    },
    {
      "cell_type": "markdown",
      "metadata": {
        "id": "9NZphi8Lo6pt"
      },
      "source": [
        "#### Building the Architecture"
      ]
    },
    {
      "cell_type": "code",
      "metadata": {
        "id": "GuNKNPYio6pu"
      },
      "source": [
        "mnistmodel1 = tf.keras.models.Sequential([\n",
        "tf.keras.layers.Flatten(),\n",
        "tf.keras.layers.Dense(512,activation=tf.nn.relu),\n",
        "tf.keras.layers.Dropout(0.2),\n",
        "tf.keras.layers.Dense(10,activation=tf.nn.softmax)\n",
        "])\n"
      ],
      "execution_count": null,
      "outputs": []
    },
    {
      "cell_type": "markdown",
      "metadata": {
        "id": "y2o8p9sVo6pw"
      },
      "source": [
        "#### Compiling the model"
      ]
    },
    {
      "cell_type": "code",
      "metadata": {
        "id": "QgoZntmAo6px"
      },
      "source": [
        "optimiser = tf.keras.optimizers.Adam()\n",
        "mnistmodel1.compile (optimizer= optimiser, loss='sparse_categorical_crossentropy', metrics = ['accuracy'])"
      ],
      "execution_count": null,
      "outputs": []
    },
    {
      "cell_type": "markdown",
      "metadata": {
        "id": "_wS8f11Fo6p0"
      },
      "source": [
        "#### Fitting the model"
      ]
    },
    {
      "cell_type": "code",
      "metadata": {
        "id": "6PhgsrZbo6p2",
        "outputId": "76ad21f3-0758-47a0-caa5-0126022ab647",
        "colab": {
          "base_uri": "https://localhost:8080/"
        }
      },
      "source": [
        "mnistmodel1.fit(train_x, train_y, batch_size=32, epochs=5)"
      ],
      "execution_count": null,
      "outputs": [
        {
          "output_type": "stream",
          "name": "stdout",
          "text": [
            "Epoch 1/5\n",
            "1875/1875 [==============================] - 12s 3ms/step - loss: 0.2187 - accuracy: 0.9353\n",
            "Epoch 2/5\n",
            "1875/1875 [==============================] - 6s 3ms/step - loss: 0.0980 - accuracy: 0.9701\n",
            "Epoch 3/5\n",
            "1875/1875 [==============================] - 5s 3ms/step - loss: 0.0704 - accuracy: 0.9779\n",
            "Epoch 4/5\n",
            "1875/1875 [==============================] - 5s 3ms/step - loss: 0.0538 - accuracy: 0.9825\n",
            "Epoch 5/5\n",
            "1875/1875 [==============================] - 7s 4ms/step - loss: 0.0435 - accuracy: 0.9860\n"
          ]
        },
        {
          "output_type": "execute_result",
          "data": {
            "text/plain": [
              "<keras.src.callbacks.History at 0x7843803240a0>"
            ]
          },
          "metadata": {},
          "execution_count": 62
        }
      ]
    },
    {
      "cell_type": "markdown",
      "metadata": {
        "id": "vcP9j-Zzo6p6"
      },
      "source": [
        "#### Evaluate the mnistmodel1"
      ]
    },
    {
      "cell_type": "code",
      "metadata": {
        "id": "MxNtyQdJo6p6",
        "outputId": "9ba42a9a-011a-4dc1-fd91-3e11b58f048c",
        "colab": {
          "base_uri": "https://localhost:8080/"
        }
      },
      "source": [
        "mnistmodel1.evaluate(test_x, test_y)"
      ],
      "execution_count": null,
      "outputs": [
        {
          "output_type": "stream",
          "name": "stdout",
          "text": [
            "313/313 [==============================] - 1s 2ms/step - loss: 0.0629 - accuracy: 0.9801\n"
          ]
        },
        {
          "output_type": "execute_result",
          "data": {
            "text/plain": [
              "[0.06294650584459305, 0.9800999760627747]"
            ]
          },
          "metadata": {},
          "execution_count": 66
        }
      ]
    },
    {
      "cell_type": "markdown",
      "metadata": {
        "id": "cDfS3h5Co6p_"
      },
      "source": [
        ">This represents a loss of 0.09 and an accuracy of 0.9801 on the test data.\n",
        "\n",
        ">An accuracy of 0.98 means that out of 100 test data points, 98 were, on average, correctly identified by the model."
      ]
    },
    {
      "cell_type": "markdown",
      "source": [
        "The second way to create a Sequential model\n",
        "The alternative to passing a list of layers to the Sequential model's constructor is to use the add method, as follows, for the same architecture:\n",
        "\n"
      ],
      "metadata": {
        "id": "a02pSWvDol7D"
      }
    },
    {
      "cell_type": "markdown",
      "metadata": {
        "id": "jdEjqOoUo6qC"
      },
      "source": [
        "#### Building the Architecture & Compiling"
      ]
    },
    {
      "cell_type": "code",
      "metadata": {
        "id": "4sILJ-Yho6qC"
      },
      "source": [
        "mnistmodel2 = tf.keras.models.Sequential();\n",
        "mnistmodel2.add(tf.keras.layers.Flatten())\n",
        "mnistmodel2.add(tf.keras.layers.Dense(512, activation='relu'))\n",
        "mnistmodel2.add(tf.keras.layers.Dropout(0.2))\n",
        "mnistmodel2.add(tf.keras.layers.Dense(10,activation=tf.nn.softmax))\n",
        "mnistmodel2.compile (optimizer= tf.keras.optimizers.Adam(), loss='sparse_categorical_crossentropy',metrics = ['accuracy'])"
      ],
      "execution_count": null,
      "outputs": []
    },
    {
      "cell_type": "markdown",
      "metadata": {
        "id": "kOfBS60do6qF"
      },
      "source": [
        "#### Fitting the mnistmodel2"
      ]
    },
    {
      "cell_type": "code",
      "metadata": {
        "id": "LT89Nv78o6qF",
        "outputId": "79c5e73c-9069-4b3a-86ac-a5febdab251e",
        "colab": {
          "base_uri": "https://localhost:8080/"
        }
      },
      "source": [
        "mnistmodel2.fit(train_x, train_y, batch_size=64, epochs=5)"
      ],
      "execution_count": null,
      "outputs": [
        {
          "output_type": "stream",
          "name": "stdout",
          "text": [
            "Epoch 1/5\n",
            "938/938 [==============================] - 4s 3ms/step - loss: 0.2436 - accuracy: 0.9301\n",
            "Epoch 2/5\n",
            "938/938 [==============================] - 5s 5ms/step - loss: 0.1042 - accuracy: 0.9691\n",
            "Epoch 3/5\n",
            "938/938 [==============================] - 5s 6ms/step - loss: 0.0721 - accuracy: 0.9780\n",
            "Epoch 4/5\n",
            "938/938 [==============================] - 5s 6ms/step - loss: 0.0536 - accuracy: 0.9831\n",
            "Epoch 5/5\n",
            "938/938 [==============================] - 3s 3ms/step - loss: 0.0433 - accuracy: 0.9866\n"
          ]
        },
        {
          "output_type": "execute_result",
          "data": {
            "text/plain": [
              "<keras.callbacks.History at 0x7ffa98508e20>"
            ]
          },
          "metadata": {},
          "execution_count": 68
        }
      ]
    },
    {
      "cell_type": "markdown",
      "metadata": {
        "id": "rFjJbRoCo6qH"
      },
      "source": [
        "#### Evaluate the mnistmodel2"
      ]
    },
    {
      "cell_type": "code",
      "metadata": {
        "id": "Vr7qos7co6qH",
        "outputId": "36f9f313-5f96-4798-e682-84651b0ad162",
        "colab": {
          "base_uri": "https://localhost:8080/"
        }
      },
      "source": [
        "mnistmodel2.evaluate(test_x, test_y)"
      ],
      "execution_count": null,
      "outputs": [
        {
          "output_type": "stream",
          "name": "stdout",
          "text": [
            "313/313 [==============================] - 1s 2ms/step - loss: 0.0640 - accuracy: 0.9790\n"
          ]
        },
        {
          "output_type": "execute_result",
          "data": {
            "text/plain": [
              "[0.06400463730096817, 0.9789999723434448]"
            ]
          },
          "metadata": {},
          "execution_count": 69
        }
      ]
    },
    {
      "cell_type": "markdown",
      "metadata": {
        "id": "ASA5H52Qo6qJ"
      },
      "source": [
        "### The Keras functional API\n",
        "\n",
        "`The functional API lets you build much more complex architectures than the simple linear stack of\n",
        "Sequential models we have seen previously. It also supports more advanced models. These models\n",
        "include multi-input and multi-output models, models with shared layers, and models with residual\n",
        "connections.`\n",
        "\n",
        "`Here is a short example, with an identical architecture to the previous two, of the use of the\n",
        "functional API.`"
      ]
    },
    {
      "cell_type": "code",
      "metadata": {
        "id": "bMARgxgGo6qJ"
      },
      "source": [
        "import tensorflow as tf\n",
        "mnist = tf.keras.datasets.mnist\n",
        "\n",
        "(train_x,train_y), (test_x, test_y) = mnist.load_data()\n",
        "\n",
        "train_x, test_x = train_x/255.0, test_x/255.0\n",
        "\n",
        "epochs=10\n"
      ],
      "execution_count": null,
      "outputs": []
    },
    {
      "cell_type": "markdown",
      "metadata": {
        "id": "OjjMg9-qo6qL"
      },
      "source": [
        "#### Building the Architecture"
      ]
    },
    {
      "cell_type": "code",
      "metadata": {
        "id": "ikSqvtono6qL"
      },
      "source": [
        "inputs = tf.keras.Input(shape=(28,28)) # Returns a 'placeholder' tensor\n",
        "x = tf.keras.layers.Flatten()(inputs)\n",
        "x = tf.keras.layers.Dense(512, activation='relu',name='d1')(x)\n",
        "x = tf.keras.layers.Dropout(0.2)(x)\n",
        "predictions = tf.keras.layers.Dense(10,activation=tf.nn.softmax, name='d2')(x)\n",
        "mnistmodel3 = tf.keras.Model(inputs=inputs, outputs=predictions)"
      ],
      "execution_count": null,
      "outputs": []
    },
    {
      "cell_type": "markdown",
      "metadata": {
        "id": "rel72Vyoo6qO"
      },
      "source": [
        "#### Compile & Fit"
      ]
    },
    {
      "cell_type": "code",
      "metadata": {
        "id": "rD-R8yu6o6qP",
        "colab": {
          "base_uri": "https://localhost:8080/"
        },
        "outputId": "47275baa-2a07-444c-db0d-0f1d5e2cb172"
      },
      "source": [
        "optimiser = tf.keras.optimizers.Adam()\n",
        "mnistmodel3.compile (optimizer= optimiser, loss='sparse_categorical_crossentropy', metrics = ['accuracy'])\n",
        "mnistmodel3.fit(train_x, train_y, batch_size=32, epochs=epochs)"
      ],
      "execution_count": null,
      "outputs": [
        {
          "output_type": "stream",
          "name": "stdout",
          "text": [
            "Epoch 1/10\n",
            "1875/1875 [==============================] - 6s 3ms/step - loss: 0.2217 - accuracy: 0.9344\n",
            "Epoch 2/10\n",
            "1875/1875 [==============================] - 7s 4ms/step - loss: 0.0975 - accuracy: 0.9705\n",
            "Epoch 3/10\n",
            "1875/1875 [==============================] - 5s 3ms/step - loss: 0.0691 - accuracy: 0.9790\n",
            "Epoch 4/10\n",
            "1875/1875 [==============================] - 6s 3ms/step - loss: 0.0534 - accuracy: 0.9832\n",
            "Epoch 5/10\n",
            "1875/1875 [==============================] - 5s 3ms/step - loss: 0.0443 - accuracy: 0.9861\n",
            "Epoch 6/10\n",
            "1875/1875 [==============================] - 6s 3ms/step - loss: 0.0370 - accuracy: 0.9879\n",
            "Epoch 7/10\n",
            "1875/1875 [==============================] - 5s 3ms/step - loss: 0.0302 - accuracy: 0.9897\n",
            "Epoch 8/10\n",
            "1875/1875 [==============================] - 6s 3ms/step - loss: 0.0280 - accuracy: 0.9905\n",
            "Epoch 9/10\n",
            "1875/1875 [==============================] - 5s 3ms/step - loss: 0.0252 - accuracy: 0.9914\n",
            "Epoch 10/10\n",
            "1875/1875 [==============================] - 5s 3ms/step - loss: 0.0221 - accuracy: 0.9927\n"
          ]
        },
        {
          "output_type": "execute_result",
          "data": {
            "text/plain": [
              "<keras.callbacks.History at 0x7ffa98444280>"
            ]
          },
          "metadata": {},
          "execution_count": 72
        }
      ]
    },
    {
      "cell_type": "markdown",
      "metadata": {
        "id": "cekAYjZ_o6qQ"
      },
      "source": [
        "#### Evaluate the mnistmodel3"
      ]
    },
    {
      "cell_type": "code",
      "metadata": {
        "id": "ZhVVGK8Xo6qR",
        "colab": {
          "base_uri": "https://localhost:8080/"
        },
        "outputId": "9aa44c91-697d-4d09-ac40-ac6b9a17c637"
      },
      "source": [
        "mnistmodel3.evaluate(test_x, test_y)"
      ],
      "execution_count": null,
      "outputs": [
        {
          "output_type": "stream",
          "name": "stdout",
          "text": [
            "313/313 [==============================] - 1s 2ms/step - loss: 0.0767 - accuracy: 0.9799\n"
          ]
        },
        {
          "output_type": "execute_result",
          "data": {
            "text/plain": [
              "[0.0767001211643219, 0.9799000024795532]"
            ]
          },
          "metadata": {},
          "execution_count": 73
        }
      ]
    },
    {
      "cell_type": "markdown",
      "metadata": {
        "id": "3cQtWRqIo6qT"
      },
      "source": [
        "### Subclassing the Keras Model class"
      ]
    },
    {
      "cell_type": "code",
      "metadata": {
        "id": "tELglH0ro6qU"
      },
      "source": [
        "import tensorflow as tf"
      ],
      "execution_count": null,
      "outputs": []
    },
    {
      "cell_type": "markdown",
      "metadata": {
        "id": "b7plNFgqo6qW"
      },
      "source": [
        "#### Building the subclass architecture"
      ]
    },
    {
      "cell_type": "code",
      "metadata": {
        "id": "Vqs-8F8Eo6qW"
      },
      "source": [
        "class MNISTModel(tf.keras.Model):\n",
        "    def __init__(self, num_classes=10):\n",
        "        super(MNISTModel, self).__init__()\n",
        "        # Define your layers here.\n",
        "        inputs = tf.keras.Input(shape=(28,28)) # Returns a placeholder tensor\n",
        "        self.x0 = tf.keras.layers.Flatten()\n",
        "        self.x1 = tf.keras.layers.Dense(512, activation='relu',name='d1')\n",
        "        self.x2 = tf.keras.layers.Dropout(0.2)\n",
        "        self.predictions = tf.keras.layers.Dense(10,activation=tf.nn.softmax, name='d2')\n",
        "\n",
        "\n",
        "    def call(self, inputs):\n",
        "    # This is where to define your forward pass\n",
        "    # using the layers previously defined in `__init__`\n",
        "        x = self.x0(inputs)\n",
        "        x = self.x1(x)\n",
        "        x = self.x2(x)\n",
        "        return self.predictions(x)"
      ],
      "execution_count": null,
      "outputs": []
    },
    {
      "cell_type": "code",
      "metadata": {
        "id": "6JUhSJI8o6qa"
      },
      "source": [
        "mnistmodel4 = MNISTModel()"
      ],
      "execution_count": null,
      "outputs": []
    },
    {
      "cell_type": "markdown",
      "metadata": {
        "id": "tT8iH0Pso6qd"
      },
      "source": [
        "#### Compile & Fit"
      ]
    },
    {
      "cell_type": "code",
      "metadata": {
        "id": "ctmLp6kzo6qe",
        "outputId": "92fbba79-1d51-45b9-b953-04859a13cb44",
        "colab": {
          "base_uri": "https://localhost:8080/"
        }
      },
      "source": [
        "batch_size = 32\n",
        "steps_per_epoch = len(train_x)//batch_size\n",
        "print(steps_per_epoch)\n",
        "mnistmodel4.compile (optimizer= tf.keras.optimizers.Adam(), loss='sparse_categorical_crossentropy',metrics = ['accuracy'])\n",
        "mnistmodel4.fit(train_x, train_y, batch_size=batch_size, epochs=epochs)"
      ],
      "execution_count": null,
      "outputs": [
        {
          "output_type": "stream",
          "name": "stdout",
          "text": [
            "1875\n",
            "Epoch 1/10\n",
            "1875/1875 [==============================] - 9s 4ms/step - loss: 0.2212 - accuracy: 0.9348\n",
            "Epoch 2/10\n",
            "1875/1875 [==============================] - 9s 5ms/step - loss: 0.0962 - accuracy: 0.9702\n",
            "Epoch 3/10\n",
            "1875/1875 [==============================] - 5s 3ms/step - loss: 0.0698 - accuracy: 0.9778\n",
            "Epoch 4/10\n",
            "1875/1875 [==============================] - 6s 3ms/step - loss: 0.0521 - accuracy: 0.9830\n",
            "Epoch 5/10\n",
            "1875/1875 [==============================] - 5s 3ms/step - loss: 0.0418 - accuracy: 0.9865\n",
            "Epoch 6/10\n",
            "1875/1875 [==============================] - 6s 3ms/step - loss: 0.0354 - accuracy: 0.9882\n",
            "Epoch 7/10\n",
            "1875/1875 [==============================] - 5s 3ms/step - loss: 0.0299 - accuracy: 0.9903\n",
            "Epoch 8/10\n",
            "1875/1875 [==============================] - 5s 3ms/step - loss: 0.0286 - accuracy: 0.9907\n",
            "Epoch 9/10\n",
            "1875/1875 [==============================] - 6s 3ms/step - loss: 0.0255 - accuracy: 0.9911\n",
            "Epoch 10/10\n",
            "1875/1875 [==============================] - 5s 3ms/step - loss: 0.0208 - accuracy: 0.9928\n"
          ]
        },
        {
          "output_type": "execute_result",
          "data": {
            "text/plain": [
              "<keras.callbacks.History at 0x7ffa980f5d20>"
            ]
          },
          "metadata": {},
          "execution_count": 78
        }
      ]
    },
    {
      "cell_type": "markdown",
      "metadata": {
        "id": "vmDtvIXuo6qm"
      },
      "source": [
        "#### Evaluate the mnistmodel4"
      ]
    },
    {
      "cell_type": "code",
      "metadata": {
        "id": "LTdj5Tbmo6qm",
        "colab": {
          "base_uri": "https://localhost:8080/"
        },
        "outputId": "fa8e4835-a61c-4b9f-dcc1-993d315b9442"
      },
      "source": [
        "mnistmodel4.evaluate(test_x, test_y)"
      ],
      "execution_count": null,
      "outputs": [
        {
          "output_type": "stream",
          "name": "stdout",
          "text": [
            "313/313 [==============================] - 1s 2ms/step - loss: 0.0768 - accuracy: 0.9815\n"
          ]
        },
        {
          "output_type": "execute_result",
          "data": {
            "text/plain": [
              "[0.07678413391113281, 0.9815000295639038]"
            ]
          },
          "metadata": {},
          "execution_count": 79
        }
      ]
    }
  ]
}